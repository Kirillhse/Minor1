{
 "cells": [
  {
   "cell_type": "markdown",
   "metadata": {},
   "source": [
    "# Домашнюю работу выполнили: Фесенко Георгий, Шеин Кирилл"
   ]
  },
  {
   "cell_type": "markdown",
   "metadata": {},
   "source": [
    "## Часть 1\n",
    "Сперва потребовалось достать данные с сайта погоды, для чего были использованы библиотеки beautifulsoup и requests.  \n",
    "Полный код приведен ниже.  \n",
    "Вдохновление черпалось из следующего источника: https://habrahabr.ru/post/280238/  \n",
    "Было решено взять погоду на 10 дней в городе Санкт-Петербурге."
   ]
  },
  {
   "cell_type": "code",
   "execution_count": 181,
   "metadata": {
    "collapsed": true
   },
   "outputs": [],
   "source": [
    "import requests\n",
    "from bs4 import BeautifulSoup\n",
    "import pymorphy2\n",
    "import pandas as pd\n",
    "\n",
    "\n",
    "url = \"https://www.gismeteo.ru/weather-sankt-peterburg-4079/10-days/\"\n",
    "headers = {'User-Agent': 'Mozilla/5.0 (Macintosh; Intel Mac OS X 10.9; rv:45.0) Gecko/20100101 Firefox/45.0'}\n",
    "data = requests.get(url, headers=headers).text\n",
    "\n",
    "soup = BeautifulSoup(data, 'lxml')\n",
    "weather_max_div = soup.find('div', {'class':'chart chart__temperature'}).find('div',{'class':'values'}).find_all('div',{'class':'maxt'})\n",
    "weather_min_div = soup.find('div', {'class':'chart chart__temperature'}).find('div',{'class':'values'}).find_all('div',{'class':'mint'})\n",
    "wind_speed_div = soup.find_all('div',{'class':'w_wind__warning w_wind__warning_'})[:10]\n",
    "precipation_div = soup.find_all('div',{'class':'w_precipitation__value'})\n",
    "weekdays_div = soup.find_all('div', {'class': 'w_date__day'})[:10]\n",
    "wind_speed = []\n",
    "max_weather = []\n",
    "min_weather = []\n",
    "precipation = []\n",
    "weekdays = []\n",
    "for el in weather_max_div:\n",
    "    max_weather.append(el.text.replace('−', '-'))\n",
    "for el in weather_min_div:\n",
    "    min_weather.append(el.text.replace('−', '-'))\n",
    "for item in wind_speed_div:\n",
    "    wind_speed.append(item.text.strip())\n",
    "for item in precipation_div:\n",
    "    precipation.append(item.text.strip().replace(',','.'))\n",
    "for item in weekdays_div:\n",
    "    weekdays.append(item.text.strip().lower())\n",
    "\n",
    "#print(max_weather)\n",
    "#print(min_weather)\n",
    "#print(wind_speed)\n",
    "#print(precipation)\n",
    "#print(weekdays)\n",
    "dataP = {}\n",
    "dt = '.02'\n",
    "dttr = list(map(str, range(15,25)))\n",
    "\n",
    "for (mi,ma,wi,pre,dtt,wd) in zip(min_weather,max_weather,wind_speed,precipation,dttr, weekdays):\n",
    "    dataP[dtt + dt + ' (' + wd + ')'] = [mi,ma,wi,pre]\n",
    "\n",
    "df = pd.DataFrame(dataP,index=['минимальная температура','максимальная температура','скорость ветра','уровень осадков'])\n",
    "#df.to_csv('weatherForecast')"
   ]
  },
  {
   "cell_type": "markdown",
   "metadata": {},
   "source": [
    "В итоге получилась такая таблица"
   ]
  },
  {
   "cell_type": "code",
   "execution_count": 231,
   "metadata": {},
   "outputs": [
    {
     "data": {
      "text/html": [
       "<div>\n",
       "<style>\n",
       "    .dataframe thead tr:only-child th {\n",
       "        text-align: right;\n",
       "    }\n",
       "\n",
       "    .dataframe thead th {\n",
       "        text-align: left;\n",
       "    }\n",
       "\n",
       "    .dataframe tbody tr th {\n",
       "        vertical-align: top;\n",
       "    }\n",
       "</style>\n",
       "<table border=\"1\" class=\"dataframe\">\n",
       "  <thead>\n",
       "    <tr style=\"text-align: right;\">\n",
       "      <th></th>\n",
       "      <th>15.02 (чт)</th>\n",
       "      <th>16.02 (пт)</th>\n",
       "      <th>17.02 (сб)</th>\n",
       "      <th>18.02 (вс)</th>\n",
       "      <th>19.02 (пн)</th>\n",
       "      <th>20.02 (вт)</th>\n",
       "      <th>21.02 (ср)</th>\n",
       "      <th>22.02 (чт)</th>\n",
       "      <th>23.02 (пт)</th>\n",
       "      <th>24.02 (сб)</th>\n",
       "    </tr>\n",
       "  </thead>\n",
       "  <tbody>\n",
       "    <tr>\n",
       "      <th>минимальная температура</th>\n",
       "      <td>-9</td>\n",
       "      <td>-8</td>\n",
       "      <td>-8</td>\n",
       "      <td>-4</td>\n",
       "      <td>-6</td>\n",
       "      <td>-11</td>\n",
       "      <td>-14</td>\n",
       "      <td>-14</td>\n",
       "      <td>-7</td>\n",
       "      <td>-6</td>\n",
       "    </tr>\n",
       "    <tr>\n",
       "      <th>максимальная температура</th>\n",
       "      <td>-6</td>\n",
       "      <td>-6</td>\n",
       "      <td>-4</td>\n",
       "      <td>-2</td>\n",
       "      <td>-4</td>\n",
       "      <td>-7</td>\n",
       "      <td>-10</td>\n",
       "      <td>-6</td>\n",
       "      <td>-3</td>\n",
       "      <td>-1</td>\n",
       "    </tr>\n",
       "    <tr>\n",
       "      <th>скорость ветра</th>\n",
       "      <td>2</td>\n",
       "      <td>6</td>\n",
       "      <td>7</td>\n",
       "      <td>6</td>\n",
       "      <td>7</td>\n",
       "      <td>6</td>\n",
       "      <td>6</td>\n",
       "      <td>7</td>\n",
       "      <td>12</td>\n",
       "      <td>16</td>\n",
       "    </tr>\n",
       "    <tr>\n",
       "      <th>уровень осадков</th>\n",
       "      <td>0</td>\n",
       "      <td>2.6</td>\n",
       "      <td>1.4</td>\n",
       "      <td>2.2</td>\n",
       "      <td>0.3</td>\n",
       "      <td>0.1</td>\n",
       "      <td>0</td>\n",
       "      <td>0.6</td>\n",
       "      <td>0.2</td>\n",
       "      <td>1.4</td>\n",
       "    </tr>\n",
       "  </tbody>\n",
       "</table>\n",
       "</div>"
      ],
      "text/plain": [
       "                         15.02 (чт) 16.02 (пт) 17.02 (сб) 18.02 (вс)  \\\n",
       "минимальная температура          -9         -8         -8         -4   \n",
       "максимальная температура         -6         -6         -4         -2   \n",
       "скорость ветра                    2          6          7          6   \n",
       "уровень осадков                   0        2.6        1.4        2.2   \n",
       "\n",
       "                         19.02 (пн) 20.02 (вт) 21.02 (ср) 22.02 (чт)  \\\n",
       "минимальная температура          -6        -11        -14        -14   \n",
       "максимальная температура         -4         -7        -10         -6   \n",
       "скорость ветра                    7          6          6          7   \n",
       "уровень осадков                 0.3        0.1          0        0.6   \n",
       "\n",
       "                         23.02 (пт) 24.02 (сб)  \n",
       "минимальная температура          -7         -6  \n",
       "максимальная температура         -3         -1  \n",
       "скорость ветра                   12         16  \n",
       "уровень осадков                 0.2        1.4  "
      ]
     },
     "execution_count": 231,
     "metadata": {},
     "output_type": "execute_result"
    }
   ],
   "source": [
    "df"
   ]
  },
  {
   "cell_type": "markdown",
   "metadata": {},
   "source": [
    "## Часть 2"
   ]
  },
  {
   "cell_type": "markdown",
   "metadata": {},
   "source": [
    "Мы сделали 4 вида прогнозов:\n",
    "\n",
    "1)Средняя *температура / скорость ветра / уровень осадков* в определенный день\n",
    "\n",
    "2)Сравнения двух дней по этим параметрам\n",
    "\n",
    "3)*Средняя температура* за период"
   ]
  },
  {
   "cell_type": "code",
   "execution_count": 517,
   "metadata": {
    "collapsed": true
   },
   "outputs": [],
   "source": [
    "morph = pymorphy2.MorphAnalyzer()"
   ]
  },
  {
   "cell_type": "code",
   "execution_count": 518,
   "metadata": {
    "collapsed": true
   },
   "outputs": [],
   "source": [
    "#Я решил написать функции для вывода среднего отедельно для каждой позиции.\n",
    "def average_temperature(n):\n",
    "    min_temp = int(df[n][0])\n",
    "    max_temp = int(df[n][1])\n",
    "    aver_temp = (min_temp + max_temp)/2\n",
    "    degrees = morph.parse('градус')[0]\n",
    "    #Тут идет согласование существительного с числительным\n",
    "    forecast = ' '.join([str(aver_temp),degrees.make_agree_with_number(aver_temp).word])\n",
    "    return forecast\n"
   ]
  },
  {
   "cell_type": "code",
   "execution_count": 519,
   "metadata": {
    "collapsed": true
   },
   "outputs": [],
   "source": [
    "def average_speed(n):\n",
    "    speed = int(df[n][2])\n",
    "    meter = morph.parse('метр')[0]\n",
    "    time = morph.parse('секунда')[0]\n",
    "    in_ = 'в'\n",
    "    forecast= ' '.join([str(speed),meter.make_agree_with_number(speed).word,in_,time.inflect({'accs'}).word])\n",
    "    return forecast"
   ]
  },
  {
   "cell_type": "code",
   "execution_count": 520,
   "metadata": {
    "collapsed": true
   },
   "outputs": [],
   "source": [
    "def average_level(n):\n",
    "    level = float(df[n][3])\n",
    "    mmetr = morph.parse('миллиметр')[0]\n",
    "    forecast = ' '.join([str(level),mmetr.make_agree_with_number(level).word])\n",
    "    return forecast"
   ]
  },
  {
   "cell_type": "markdown",
   "metadata": {},
   "source": [
    "Главная функция работает таким образом. Вводится день, когда мы хотим узнать определенный показатель и этот показатель.\n",
    "\n",
    "Здесь и далее({*1*:'средняя температура',2:'средняя скорость ветра',3:'средний уровень осадков'})\n",
    "\n",
    "**Все даты задаются в формате: '15.02 (чт)'**"
   ]
  },
  {
   "cell_type": "code",
   "execution_count": 521,
   "metadata": {
    "collapsed": true
   },
   "outputs": [],
   "source": [
    "def forecast_day(n,chs):\n",
    "    search = {1:'температура',2:'скорость',3:'уровень'}\n",
    "    city = morph.parse('Санкт-Петербург')[0]\n",
    "    #Объявляем дни недели\n",
    "    day_w = {'(пн)': \"понедельник\", '(вт)': \"вторник\", '(ср)': \"среда\",'(чт)':'четверг','(пт)':'пятница','(сб)':'суббота','(вс)':'воскресенье'}\n",
    "    #Выделяем отдельно дату как число и день недели\n",
    "    day_now_w = morph.parse(day_w[n.split(' ')[1]])[0]\n",
    "    day_now_n = n.split(' ')[0]\n",
    "    #Тут мы проводим морфологический анализ слов,которые будем использовать, чтобы мы могли из правильно склонять в дальнейшем\n",
    "    average = morph.parse('cредний')[0]#0 обозначает, что мы выбираем самый вероятный разбор\n",
    "    equal = morph.parse('равен')[0]\n",
    "    wind = morph.parse('ветер')[0]\n",
    "    level = morph.parse('осадков')[0]\n",
    "    #Согласование предлогов \"В\" и \"С\"\n",
    "    if   n.split(' ')[1] == '(вт)':\n",
    "        start = 'Во'\n",
    "    else:\n",
    "        start = 'В'\n",
    "    #Начальная строка и согласование названия города и дня недели    \n",
    "    begin = ' '.join([start ,day_now_w.inflect({'accs'}).word,day_now_n,'в городе',(city.inflect({'loct'}).word).title()])\n",
    "    search_tag = morph.parse(search[chs])[0].tag\n",
    "    #Узнаем кого рода слова \"характеристики\"\n",
    "    if 'masc' in search_tag:\n",
    "        gender = 'masc'\n",
    "    if 'femn' in search_tag:\n",
    "        gender = 'femn'\n",
    "    if search[chs] == 'температура':\n",
    "        forecast = ' '.join([begin,average.inflect({gender}).word,search[chs],equal.inflect({gender}).word,average_temperature(n)])\n",
    "    if search[chs] == 'скорость':\n",
    "        forecast = ' '.join([begin,average.inflect({gender}).word,search[chs],wind.inflect({'gent'})[0],equal.inflect({gender}).word,average_speed(n)])\n",
    "    if search[chs] == 'уровень':\n",
    "        forecast = ' '.join([begin,average.inflect({gender}).word,search[chs],level.inflect({'gent'})[0],equal.inflect({gender}).word,average_level(n)])\n",
    "    return forecast\n",
    "    "
   ]
  },
  {
   "cell_type": "markdown",
   "metadata": {},
   "source": [
    "### Показательный пример!"
   ]
  },
  {
   "cell_type": "code",
   "execution_count": 527,
   "metadata": {},
   "outputs": [
    {
     "name": "stdout",
     "output_type": "stream",
     "text": [
      "Во вторник 20.02 в городе Санкт-Петербурге cредняя температура равна -9.0 градус\n"
     ]
    }
   ],
   "source": [
    "print(forecast_day('20.02 (вт)',1))"
   ]
  },
  {
   "cell_type": "markdown",
   "metadata": {},
   "source": [
    "# Показания за период"
   ]
  },
  {
   "cell_type": "code",
   "execution_count": 279,
   "metadata": {
    "collapsed": true
   },
   "outputs": [],
   "source": [
    "'''Здесь все тоже самое , только мы теперь сравнивае по показателям два дня. Даты вводятся в порядке возрастания'''\n",
    "    aver_temp1 = (int(df[d1][0]) + int(df[d1][1]))/2\n",
    "    aver_temp2 = (int(df[d2][0]) + int(df[d2][1]))/2\n",
    "    deg = morph.parse('градус')[0]\n",
    "    dif = aver_temp1 - aver_temp2\n",
    "    if aver_temp1 > aver_temp2:\n",
    "        temp = 'увеличилась на'\n",
    "        forecast = ' '.join([temp,str(dif),deg.make_agree_with_number(dif).word])\n",
    "        return forecast\n",
    "    \n",
    "    elif aver_temp1 < aver_temp2:\n",
    "        temp = 'уменьшилась на'\n",
    "        forecast = ' '.join([temp,str(abs(dif)),deg.make_agree_with_number(dif).word])\n",
    "        return forecast\n",
    "        \n",
    "    else:\n",
    "        temp = 'не изменилась'\n",
    "        return temp         "
   ]
  },
  {
   "cell_type": "code",
   "execution_count": 300,
   "metadata": {},
   "outputs": [
    {
     "name": "stdout",
     "output_type": "stream",
     "text": [
      "увеличилась на 1.5 градусов\n"
     ]
    }
   ],
   "source": [
    "print(period_temperature('24.02 (сб)','23.02 (пт)'))\n"
   ]
  },
  {
   "cell_type": "code",
   "execution_count": 246,
   "metadata": {
    "collapsed": true
   },
   "outputs": [],
   "source": [
    "def period_speed(d1,d2):\n",
    "    spd1 = int(df[d1][2])\n",
    "    spd2 = int(df[d2][2])\n",
    "    dif = spd1 - spd2\n",
    "    meter = morph.parse('метр')[0]\n",
    "    time = morph.parse('секунда')[0]\n",
    "    in_ = 'в'\n",
    "    if spd1 > spd2:\n",
    "        spd = 'увеличилась на'\n",
    "        forecast = ' '.join([spd,str(abs(dif)),meter.make_agree_with_number(dif).word,in_,time.inflect({'accs'}).word])\n",
    "        return forecast\n",
    "    \n",
    "    elif spd1 > spd2:\n",
    "        spd = 'уменьшилась на'\n",
    "        forecast = ' '.join([spd,str(abs(dif)),meter.make_agree_with_number(dif).word,in_,time.inflect({'accs'}).word])\n",
    "        return forecast\n",
    "        \n",
    "    else:\n",
    "        spd = 'не изменилась'\n",
    "        return spd   \n",
    "        "
   ]
  },
  {
   "cell_type": "code",
   "execution_count": 301,
   "metadata": {},
   "outputs": [
    {
     "name": "stdout",
     "output_type": "stream",
     "text": [
      "увеличилась на 4 метра в секунду\n"
     ]
    }
   ],
   "source": [
    "print(period_speed('24.02 (сб)','23.02 (пт)'))"
   ]
  },
  {
   "cell_type": "code",
   "execution_count": 254,
   "metadata": {
    "collapsed": true
   },
   "outputs": [],
   "source": [
    "def period_level(d1,d2):\n",
    "    lvl1 = float(df[d1][3])\n",
    "    lvl2 = float(df[d2][3])\n",
    "    mmetr = morph.parse('миллиметр')[0]\n",
    "    dif = lvl1 - lvl2\n",
    "    if lvl1 > lvl2:\n",
    "        lvl = 'увеличилась на'\n",
    "        mmetr = morph.parse('миллиметр')[0]\n",
    "        forecast = ' '.join([lvl,str(dif),mmetr.make_agree_with_number(dif).word])\n",
    "        return forecast\n",
    "    \n",
    "    elif lvl1 > lvl2:\n",
    "        lvl = 'уменьшилась на'\n",
    "        forecast = ' '.join([lvl,str(dif),mmetr.make_agree_with_number(dif).word])\n",
    "        return forecast\n",
    "        \n",
    "    else:\n",
    "        lvl = 'не изменилась'\n",
    "        return lvl  \n",
    "        "
   ]
  },
  {
   "cell_type": "code",
   "execution_count": 302,
   "metadata": {},
   "outputs": [
    {
     "name": "stdout",
     "output_type": "stream",
     "text": [
      "увеличилась на 1.2 миллиметров\n"
     ]
    }
   ],
   "source": [
    "print(period_level('24.02 (сб)','23.02 (пт)'))"
   ]
  },
  {
   "cell_type": "code",
   "execution_count": 324,
   "metadata": {
    "collapsed": true
   },
   "outputs": [],
   "source": [
    "def forecast_period_1(d1,d2,chs):\n",
    "    search = {1:'температура',2:'скорость',3:'уровень'}\n",
    "    city = morph.parse('Санкт-Петербург')[0]\n",
    "    day_w = {'(пн)': \"понедельник\", '(вт)': \"вторник\", '(ср)': \"среда\",'(чт)':'четверг','(пт)':'пятница','(сб)':'суббота','(вс)':'воскресенье'}\n",
    "    day1 = morph.parse(day_w[d1.split(' ')[1]])[0]\n",
    "    day_d1_n = d1.split(' ')[0]\n",
    "    day2 = morph.parse(day_w[d2.split(' ')[1]])[0]\n",
    "    day_2 = day2.inflect({'ablt'}).word\n",
    "    day_d2_n = d2.split(' ')[0]\n",
    "    average = morph.parse('cредний')[0]\n",
    "    equal = morph.parse('равен')[0]\n",
    "    wind = morph.parse('ветер')[0]\n",
    "    level = morph.parse('осадков')[0]\n",
    "    compare = 'по сравнению'\n",
    "    #Согласование предлогов \"В\" и \"С\"\n",
    "    if   n.split(' ')[1] == '(вт)':\n",
    "        start = 'Во'\n",
    "    else:\n",
    "        start = 'В'\n",
    "    if d1.split(' ')[1] == '(ср)':\n",
    "        wit_h = 'со'\n",
    "    elif d2.split(' ')[1] == '(ср)':\n",
    "        wit_h = 'со'\n",
    "    else:\n",
    "        wit_h = 'c'\n",
    "        \n",
    "    begin = ' '.join([start ,day1.inflect({'accs'}).word,day_d1_n,'в городе',(city.inflect({'loct'}).word).title()])\n",
    "    search_tag = morph.parse(search[chs])[0].tag\n",
    "    if 'masc' in search_tag:\n",
    "        gender = 'masc'\n",
    "    if 'femn' in search_tag:\n",
    "        gender = 'femn'\n",
    "    if search[chs] == 'температура':\n",
    "        forecast_1 = ' '.join([begin,average.inflect({gender}).word,search[chs],period_temperature(d1,d2),compare,wit_h,day_2,day_d2_n])\n",
    "    if search[chs] == 'скорость':\n",
    "        forecast_1 = ' '.join([begin,average.inflect({gender}).word,search[chs],wind.inflect({'gent'})[0],period_temperature(d1,d2),compare,wit_h,day_2,day_d2_n])\n",
    "    if search[chs] == 'уровень':\n",
    "        forecast_1 = ' '.join([begin,average.inflect({gender}).word,search[chs],level.inflect({'gent'})[0],period_temperature(d1,d2),compare,wit_h,day_2,day_d2_n])\n",
    "    return forecast_1\n",
    "    \n",
    "        "
   ]
  },
  {
   "cell_type": "markdown",
   "metadata": {},
   "source": [
    "### Показательный пример!"
   ]
  },
  {
   "cell_type": "code",
   "execution_count": 325,
   "metadata": {
    "scrolled": true
   },
   "outputs": [
    {
     "data": {
      "text/plain": [
       "'В субботу 24.02 в городе Санкт-Петербурге cредняя скорость ветра увеличилась на 1.5 градусов по сравнению c пятницей 23.02'"
      ]
     },
     "execution_count": 325,
     "metadata": {},
     "output_type": "execute_result"
    }
   ],
   "source": [
    "'''Так как у нас нет привязки к конкретной начальной дате, то все прогнозы делаются в настоящем времене'''\n",
    "'''Если бы такая была, то изменить время несложно, надо просто задать параметр TEns = \"past\"'''\n",
    "forecast_period_1('24.02 (сб)','23.02 (пт)',2)"
   ]
  },
  {
   "cell_type": "markdown",
   "metadata": {},
   "source": [
    "## Средняя температура за период"
   ]
  },
  {
   "cell_type": "markdown",
   "metadata": {},
   "source": [
    "Данная функция рассчитывает средние параметры за период.\n",
    "\n",
    "Изначально мы берем значения дня каждого числа и разностью находим сколько длиться период.\n",
    "\n",
    "Вычитаем 15, тк отчет идет не с нуля а с 15 числа."
   ]
  },
  {
   "cell_type": "code",
   "execution_count": 531,
   "metadata": {
    "collapsed": true
   },
   "outputs": [],
   "source": [
    "def temp_average_period(d1,d2):\n",
    "    n1 = int(d1.split('.')[0])\n",
    "    n2 = int(d2.split('.')[0])\n",
    "    deg = morph.parse('градус')[0]\n",
    "    n1 = int(d1.split('.')[0])\n",
    "    n2 = int(d2.split('.')[0])\n",
    "    dif = (n1 - n2)+1\n",
    "    ave_min = []\n",
    "    ave_max = []\n",
    "    for i in range(dif):\n",
    "        ave_min.append(int(df.iloc[0,n2-15+i]))\n",
    "        ave_max.append(int(df.iloc[1,n2-15+i]))\n",
    "    temp = round(((sum(ave_min)+sum(ave_max))/dif),2)\n",
    "    return ' '.join([str(temp),deg.make_agree_with_number(temp).word])"
   ]
  },
  {
   "cell_type": "code",
   "execution_count": 499,
   "metadata": {
    "collapsed": true
   },
   "outputs": [],
   "source": [
    "def spd_average_period(d1,d2):\n",
    "    meter = morph.parse('метр')[0]\n",
    "    time = morph.parse('секунда')[0]\n",
    "    in_ = 'в'\n",
    "    n1 = int(d1.split('.')[0])\n",
    "    n2 = int(d2.split('.')[0])\n",
    "    dif = (n1 - n2)+1\n",
    "    ave = []\n",
    "    for i in range(dif):\n",
    "        ave.append(int(df.iloc[2,n2-15+i]))\n",
    "    spd = round(((sum(ave))/dif),2)\n",
    "    return ' '.join([str(spd),meter.make_agree_with_number(spd).word,in_,time.inflect({'accs'}).word])\n"
   ]
  },
  {
   "cell_type": "code",
   "execution_count": 503,
   "metadata": {
    "collapsed": true
   },
   "outputs": [],
   "source": [
    "def lvl_average_period(d1,d2):\n",
    "    mmetr = morph.parse('миллиметр')[0]\n",
    "    n1 = int(d1.split('.')[0])\n",
    "    n2 = int(d2.split('.')[0])\n",
    "    dif = (n1 - n2)+1\n",
    "    ave = []\n",
    "    for i in range(dif):\n",
    "        ave.append(float(df.iloc[3,n2-15+i]))\n",
    "    lvl = round(((sum(ave))/dif),2)\n",
    "    return ' '.join([str(lvl),mmetr.make_agree_with_number(dif).word])"
   ]
  },
  {
   "cell_type": "code",
   "execution_count": 456,
   "metadata": {},
   "outputs": [
    {
     "data": {
      "text/plain": [
       "'-15.8 градусов'"
      ]
     },
     "execution_count": 456,
     "metadata": {},
     "output_type": "execute_result"
    }
   ],
   "source": [
    "temp_average_period('24.02 (сб)','20.02 (пт)')"
   ]
  },
  {
   "cell_type": "code",
   "execution_count": 508,
   "metadata": {
    "collapsed": true
   },
   "outputs": [],
   "source": [
    "def forecast_period_days(d1,d2,chs):\n",
    "    search = {1:'температура',2:'скорость',3:'уровень'}\n",
    "    city = morph.parse('Санкт-Петербург')[0]\n",
    "    day_w = {'(пн)': \"понедельник\", '(вт)': \"вторник\", '(ср)': \"среда\",'(чт)':'четверг','(пт)':'пятница','(сб)':'суббота','(вс)':'воскресенье'}\n",
    "    day1 = morph.parse(day_w[d1.split(' ')[1]])[0]\n",
    "    day_d1_n = d1.split(' ')[0]\n",
    "    day2 = morph.parse(day_w[d2.split(' ')[1]])[0]\n",
    "    day_2 = day2.inflect({'gent'}).word\n",
    "    day_1 = day1.inflect({'accs'}).word\n",
    "    day_d2_n = d2.split(' ')[0]\n",
    "    average = morph.parse('cредний')[0]\n",
    "    equal = morph.parse('равен')[0]\n",
    "    wind = morph.parse('ветер')[0]\n",
    "    level = morph.parse('осадков')[0]\n",
    "    period = 'за период'\n",
    "    to = 'по'\n",
    "    \n",
    "    \n",
    "    if d1.split(' ')[1] == '(ср)':\n",
    "        wit_h = 'со'\n",
    "    elif d2.split(' ')[1] == '(ср)':\n",
    "        wit_h = 'со'\n",
    "    else:\n",
    "        wit_h = 'c'\n",
    "        \n",
    "   \n",
    "    search_tag = morph.parse(search[chs])[0].tag\n",
    "    if 'masc' in search_tag:\n",
    "        gender = 'masc'\n",
    "    if 'femn' in search_tag:\n",
    "        gender = 'femn'\n",
    "    if search[chs] == 'температура':\n",
    "        forecast_2 = ' '.join([average.inflect({gender}).word.title(),search[chs],period,wit_h,day_2,day_d2_n,to,day_1,day_d1_n,equal.inflect({gender}).word,temp_average_period(d1,d2)])\n",
    "    if search[chs] == 'скорость':\n",
    "        forecast_2 = ' '.join([average.inflect({gender}).word.title(),search[chs],wind.inflect({'gent'})[0],period,wit_h,day_2,day_d2_n,to,day_1,day_d1_n,equal.inflect({gender}).word,spd_average_period(d1,d2)])\n",
    "    if search[chs] == 'уровень':\n",
    "        forecast_2 = ' '.join([average.inflect({gender}).word.title(),search[chs],level.inflect({'gent'})[0],period,wit_h,day_2,day_d2_n,to,day_1,day_d1_n,equal.inflect({gender}).word,lvl_average_period(d1,d2)])\n",
    "    return forecast_2\n",
    "    "
   ]
  },
  {
   "cell_type": "markdown",
   "metadata": {},
   "source": [
    "### Показательный пример!"
   ]
  },
  {
   "cell_type": "code",
   "execution_count": 532,
   "metadata": {},
   "outputs": [
    {
     "data": {
      "text/plain": [
       "'Cредняя температура за период c пятницы 20.02 по субботу 24.02 равна -15.8 градусов'"
      ]
     },
     "execution_count": 532,
     "metadata": {},
     "output_type": "execute_result"
    }
   ],
   "source": [
    "forecast_period_days('24.02 (сб)','20.02 (пт)',1)"
   ]
  },
  {
   "cell_type": "markdown",
   "metadata": {},
   "source": [
    "## Часть 3"
   ]
  },
  {
   "cell_type": "markdown",
   "metadata": {},
   "source": [
    "***В каких других задачах (помимо описания прогноза погоды) может понадобиться генерировать текст по шаблонам?***  \n",
    "Например в навигаторе, где голосовой помощник воспроизводит определенный текст, сгенерированный, я уверен, по шаблонам. \n",
    "\n",
    "Сейчас очень популярны различные чат боты, которые выдают какую-то информацию строго по определенному шаблону\n",
    "\n",
    "***В каких задачах может понадобиться генерировать текст об изменении числовых показателей по шаблонам?***  \n",
    "Любое ПО, отслеживающее определенные данные, поступающие с датчика. Пользователю будет удобнее получать данные, сгенерированные на русском, или еще каком-либо языке, чем просто видеть постоянно меняющиеся цифры. Так же эта функция будет полезна для плохо видящих людей, ведь перед тем как машина произнесет текст, этот текст надо как-то сгенерировать."
   ]
  },
  {
   "cell_type": "markdown",
   "metadata": {},
   "source": [
    "Шаблоны, которые вы использовали в этом задании, имеют фиксированную структуру. Фактически, ваша задача заключалась в том, чтобы подставить в шаблон число и согласовать единицы измерения с этим числом или подставить в шаблон название города и согласовать его с предлогом.  \n",
    "* Как можно разнообразить эти шаблоны?  \n",
    "\n",
    "* Как знание синтаксической структуры предложения может помочь в этой задаче?"
   ]
  },
  {
   "cell_type": "markdown",
   "metadata": {},
   "source": [
    "* Как можно разнообразить эти шаблоны?  \n",
    "\n",
    "В данном примере мы не были привязаны к конкретной дате, если же делать реальное приложения, то в шаблон можно добавить склонение по времени. \n",
    "\n",
    "Также можно добавить определения рода для обращения к пользователю. Или если вы делаете рассылки на почту. "
   ]
  },
  {
   "cell_type": "markdown",
   "metadata": {},
   "source": [
    "* Как знание синтаксической структуры предложения может помочь в этой задаче?\n",
    "\n",
    "Знания правильного порядка слов в предложениях.\n",
    "\n",
    "Умения согласовывать словосочетания \n"
   ]
  }
 ],
 "metadata": {
  "kernelspec": {
   "display_name": "Python 3",
   "language": "python",
   "name": "python3"
  },
  "language_info": {
   "codemirror_mode": {
    "name": "ipython",
    "version": 3
   },
   "file_extension": ".py",
   "mimetype": "text/x-python",
   "name": "python",
   "nbconvert_exporter": "python",
   "pygments_lexer": "ipython3",
   "version": "3.6.3"
  }
 },
 "nbformat": 4,
 "nbformat_minor": 2
}
