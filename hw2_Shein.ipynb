{
 "cells": [
  {
   "cell_type": "markdown",
   "metadata": {},
   "source": [
    "# Майнор \"Прикладные задачи анализа данных\"\n",
    "## Домашнее задание 2 [10 баллов] до 23:59 22.03.2018. Предсказание цены акции по экономическим новостям\n",
    "\n",
    "\n",
    "В этом домашнем задании вы попытаетесь предсказать рост цены акции компании Газпром по новостям о компании. Домашнее задание состоит из трех частей:\n",
    "1. Предварительная обработка текстов и эксплоративный анализ\n",
    "2. Baseline алгоритм\n",
    "3. Творческая часть\n",
    "\n",
    "Все три части можно считать независимыми – вы можете сделать одну или две из них, однако мы настоятельно советуем выполнить все три. Все инструкции по выполнению домашнего задания – ниже. \n",
    "\n",
    "\n",
    "\n",
    "Входные данные:\n",
    "* Новости о компании \"Газпром\", начиная с 2010 года\n",
    "* Стоимость акций компании \"Газпром\" на ММВБ, начиная с 2010 года\n",
    "    * цена открытия (Open)\n",
    "    * цена закрытия (ClosingPrice)\n",
    "    * максимальная цена за день (DailyHigh)\n",
    "    * минимальная цена за день (DailyLow) \n",
    "    * объем бумаг (VolumePcs)\n"
   ]
  },
  {
   "cell_type": "markdown",
   "metadata": {},
   "source": [
    "## Выполняли: Шеин Кирилл, Георгий Фесенко ИАД3"
   ]
  },
  {
   "cell_type": "markdown",
   "metadata": {},
   "source": [
    "## Часть 1. Вводная [3 балла]\n",
    "\n",
    "Проведите предобработку текстов: если считаете нужным, выполните токенизацию, приведение к нижнему регистру, лемматизацию и/или стемминг. Ответьте на следующие вопросы:\n",
    "* Есть ли корреляция между средней длинной текста за день и ценой закрытия?\n",
    "* Есть ли корреляция между количеством упоминаний Алексея Миллера  и ценой закрытия? Учтите разные варианты написания имени.\n",
    "* Упоминаний какого газопровода в статьях больше: \n",
    "    * \"северный поток\"\n",
    "    * \"турецкий поток\"?\n",
    "* Кого упоминают чаще:\n",
    "    * Алексея Миллера\n",
    "    * Владимира Путина?\n",
    "* О каких санкциях пишут в статьях?"
   ]
  },
  {
   "cell_type": "code",
   "execution_count": 1,
   "metadata": {
    "collapsed": true
   },
   "outputs": [],
   "source": [
    "import pandas as pd\n",
    "df = pd.read_csv('C:\\\\Users\\ML\\\\texts.csv')\n",
    "df['date'] = pd.to_datetime(df['date'])\n",
    "df = df.sort_values('date', ascending=True)\n",
    "\n",
    "pr_all = pd.read_csv('C:\\\\Users\\ML\\\\gazprom_prices.csv', sep=';')\n",
    "pr_all = pr_all.rename(index=str, columns={'Date':'date'})\n",
    "pr_all['date'] = pd.to_datetime(pr_all['date'])\n",
    "pr_all = pr_all.sort_values('date', ascending=True)"
   ]
  },
  {
   "cell_type": "code",
   "execution_count": 3,
   "metadata": {},
   "outputs": [
    {
     "data": {
      "text/html": [
       "<div>\n",
       "<style>\n",
       "    .dataframe thead tr:only-child th {\n",
       "        text-align: right;\n",
       "    }\n",
       "\n",
       "    .dataframe thead th {\n",
       "        text-align: left;\n",
       "    }\n",
       "\n",
       "    .dataframe tbody tr th {\n",
       "        vertical-align: top;\n",
       "    }\n",
       "</style>\n",
       "<table border=\"1\" class=\"dataframe\">\n",
       "  <thead>\n",
       "    <tr style=\"text-align: right;\">\n",
       "      <th></th>\n",
       "      <th>date</th>\n",
       "      <th>Open</th>\n",
       "      <th>ClosingPrice</th>\n",
       "      <th>DailyHigh</th>\n",
       "      <th>DailyLow</th>\n",
       "      <th>VolumePcs</th>\n",
       "      <th>text</th>\n",
       "    </tr>\n",
       "  </thead>\n",
       "  <tbody>\n",
       "    <tr>\n",
       "      <th>0</th>\n",
       "      <td>2010-01-02</td>\n",
       "      <td>184.74</td>\n",
       "      <td>189.85</td>\n",
       "      <td>190.40</td>\n",
       "      <td>183.50</td>\n",
       "      <td>76298175</td>\n",
       "      <td>\"Газпром\" не исключает в 2010 г. выпуска обли...</td>\n",
       "    </tr>\n",
       "    <tr>\n",
       "      <th>1</th>\n",
       "      <td>2010-01-19</td>\n",
       "      <td>190.10</td>\n",
       "      <td>189.76</td>\n",
       "      <td>190.47</td>\n",
       "      <td>187.36</td>\n",
       "      <td>48626727</td>\n",
       "      <td>\"Газпром\" готов забирать весь объем азербайдж...</td>\n",
       "    </tr>\n",
       "    <tr>\n",
       "      <th>2</th>\n",
       "      <td>2010-01-28</td>\n",
       "      <td>183.75</td>\n",
       "      <td>182.30</td>\n",
       "      <td>185.98</td>\n",
       "      <td>181.67</td>\n",
       "      <td>62561241</td>\n",
       "      <td>Консорциум во главе с российским ОАО \"Газпром...</td>\n",
       "    </tr>\n",
       "    <tr>\n",
       "      <th>3</th>\n",
       "      <td>2010-02-07</td>\n",
       "      <td>144.80</td>\n",
       "      <td>148.25</td>\n",
       "      <td>148.27</td>\n",
       "      <td>144.05</td>\n",
       "      <td>41766629</td>\n",
       "      <td>Газпромбанк открыл на Кипре дочернюю компанию...</td>\n",
       "    </tr>\n",
       "    <tr>\n",
       "      <th>4</th>\n",
       "      <td>2010-02-09</td>\n",
       "      <td>161.79</td>\n",
       "      <td>162.80</td>\n",
       "      <td>163.57</td>\n",
       "      <td>161.53</td>\n",
       "      <td>42721026</td>\n",
       "      <td>\"Газпром\" вновь понизил прогноз экспорта в Ев...</td>\n",
       "    </tr>\n",
       "  </tbody>\n",
       "</table>\n",
       "</div>"
      ],
      "text/plain": [
       "        date    Open  ClosingPrice  DailyHigh  DailyLow  VolumePcs  \\\n",
       "0 2010-01-02  184.74        189.85     190.40    183.50   76298175   \n",
       "1 2010-01-19  190.10        189.76     190.47    187.36   48626727   \n",
       "2 2010-01-28  183.75        182.30     185.98    181.67   62561241   \n",
       "3 2010-02-07  144.80        148.25     148.27    144.05   41766629   \n",
       "4 2010-02-09  161.79        162.80     163.57    161.53   42721026   \n",
       "\n",
       "                                                text  \n",
       "0   \"Газпром\" не исключает в 2010 г. выпуска обли...  \n",
       "1   \"Газпром\" готов забирать весь объем азербайдж...  \n",
       "2   Консорциум во главе с российским ОАО \"Газпром...  \n",
       "3   Газпромбанк открыл на Кипре дочернюю компанию...  \n",
       "4   \"Газпром\" вновь понизил прогноз экспорта в Ев...  "
      ]
     },
     "execution_count": 3,
     "metadata": {},
     "output_type": "execute_result"
    }
   ],
   "source": [
    "result = pd.merge(pr_all, df, on='date')\n",
    "result.head()"
   ]
  },
  {
   "cell_type": "code",
   "execution_count": 6,
   "metadata": {
    "collapsed": true
   },
   "outputs": [],
   "source": [
    "#Приводим текст к нижнему регистру и пытаемся убрать знаки пунктуации\n",
    "import nltk\n",
    "import re\n",
    "from nltk.tokenize import word_tokenize\n",
    "import pymorphy2\n",
    "morph = pymorphy2.MorphAnalyzer()\n",
    "from nltk.corpus import stopwords\n",
    "text = result['text']\n",
    "text_1 = []\n",
    "prog = re.compile('[А-Яа-я\\-]+')\n",
    "delete = re.compile(u'\\W+?')\n",
    "for i in text:\n",
    "    l1 = prog.findall(str(i).lower())\n",
    "    tex = re.sub('\\W+?',\" \",str(l1))\n",
    "    text_1.append(str(tex))\n",
    "    "
   ]
  },
  {
   "cell_type": "code",
   "execution_count": 7,
   "metadata": {},
   "outputs": [],
   "source": [
    "#Я немного не понял, что значит средняя длин текста за день, ведь у нас в один день - один текст, так что взял длину текста.\n",
    "text = result['text']\n",
    "len_text = []\n",
    "for tx in text_1:\n",
    "    token = word_tokenize(tx)\n",
    "    len_text.append(len(token))\n"
   ]
  },
  {
   "cell_type": "code",
   "execution_count": 8,
   "metadata": {
    "collapsed": true
   },
   "outputs": [],
   "source": [
    "#Округлил цену развития до двух знаков после запятой\n",
    "res = result['ClosingPrice']\n",
    "close = []\n",
    "for i in res:\n",
    "    close.append(round(int(i),1))\n"
   ]
  },
  {
   "cell_type": "code",
   "execution_count": 11,
   "metadata": {},
   "outputs": [
    {
     "data": {
      "text/plain": [
       "Text(0,0.5,'Цена закрытия')"
      ]
     },
     "execution_count": 11,
     "metadata": {},
     "output_type": "execute_result"
    },
    {
     "data": {
      "image/png": "[encoded data removed]",
      "text/plain": [
       "<matplotlib.figure.Figure at 0xbb9bcf8>"
      ]
     },
     "metadata": {},
     "output_type": "display_data"
    }
   ],
   "source": [
    "import matplotlib.pyplot as plt\n",
    "%matplotlib inline\n",
    "plt.scatter(len_text,close)\n",
    "plt.xlabel('Средняя длина новостей')\n",
    "plt.ylabel('Цена закрытия')"
   ]
  },
  {
   "cell_type": "markdown",
   "metadata": {},
   "source": [
    "**Мы не увиделеи тут какой-либо корреляции так как на малых длиннах текста у нас цена закрытия во всем его диапозоне, а при больших есть как высокая, так и низкая цена закрытия**"
   ]
  },
  {
   "cell_type": "code",
   "execution_count": 42,
   "metadata": {},
   "outputs": [
    {
     "data": {
      "text/plain": [
       "'  европейская    комиссия    довольна    итогами    российско польских    переговоров    в    газовой    сфере    которые    ранее    вызывали    у    нее    вопросы    сообщил    во    вторник    газпром    по    итогам    встречи    главы    компании    алексея    миллера    и    еврокомиссара    по    энергетике    гюнтера    эттингера    в    рамках    беседы    гюнтер    эттингер    от    имени    европейской    комиссии    выразил    удовлетворение    ходом    и    итогами    российско польских    переговоров    о    сотрудничестве    в    газовой    сфере         указано    в    сообщении  '"
      ]
     },
     "execution_count": 42,
     "metadata": {},
     "output_type": "execute_result"
    }
   ],
   "source": [
    "text_1[5]"
   ]
  },
  {
   "cell_type": "code",
   "execution_count": 26,
   "metadata": {
    "collapsed": true
   },
   "outputs": [],
   "source": [
    "num = []\n",
    "for i in range(len(text_1)):\n",
    "    token = nltk.word_tokenize(str(text_1[i]))\n",
    "    for j in token:\n",
    "        if j == 'миллер' or j == 'миллера':\n",
    "            num.append(i)"
   ]
  },
  {
   "cell_type": "code",
   "execution_count": 22,
   "metadata": {
    "scrolled": true
   },
   "outputs": [
    {
     "name": "stdout",
     "output_type": "stream",
     "text": [
      "{1: 2, 5: 1, 11: 1, 29: 1, 51: 2, 56: 1, 61: 1, 83: 2, 84: 1, 122: 1, 125: 1, 127: 3, 131: 1, 141: 1, 170: 2, 171: 1, 176: 1, 190: 1, 191: 1, 201: 3, 209: 1, 216: 2, 224: 2, 254: 5, 274: 1, 276: 2, 283: 4, 287: 1, 288: 1, 292: 6, 298: 2, 311: 1, 324: 1, 325: 1, 338: 1, 346: 2, 351: 2, 362: 1, 368: 1, 375: 1, 426: 1, 430: 3, 431: 2, 435: 1, 439: 3, 446: 1, 456: 1, 481: 1, 501: 1, 508: 1, 538: 2, 539: 1, 542: 1, 546: 2, 559: 1, 576: 1, 579: 1, 582: 1, 586: 1, 625: 3, 640: 3, 668: 1, 669: 1, 672: 1, 682: 1, 685: 1, 700: 1, 708: 1, 727: 1, 742: 1, 745: 1, 754: 1, 774: 2, 779: 1, 787: 1, 798: 1, 799: 1, 814: 4, 843: 1, 844: 1, 846: 1, 847: 1, 887: 1, 890: 1, 905: 1, 906: 1, 919: 1, 926: 1, 947: 2, 962: 1, 975: 3, 977: 1, 1012: 1, 1043: 1, 1094: 1, 1102: 1, 1113: 2}\n"
     ]
    }
   ],
   "source": [
    "'''\n",
    "Сформируем словарь из полученного списка, где у нас есть индекс дня когда был упомянут Миллер, и сколькраз\n",
    "он был упомянут в тексте\n",
    "'''\n",
    "counter = {}\n",
    "for elem in num:\n",
    "    counter[elem] = counter.get(elem, 0) + 1\n",
    "\n",
    "doubles = {element: count for element, count in counter.items()}\n",
    "\n",
    "print(doubles)"
   ]
  },
  {
   "cell_type": "code",
   "execution_count": 39,
   "metadata": {
    "collapsed": true
   },
   "outputs": [],
   "source": [
    "#Запишем значения в списки\n",
    "num_close = []\n",
    "freq_mil = []\n",
    "for key, value in doubles.items():\n",
    "    num_close.append(res[key])\n",
    "    freq_mil.append(value)"
   ]
  },
  {
   "cell_type": "code",
   "execution_count": 40,
   "metadata": {},
   "outputs": [
    {
     "data": {
      "text/plain": [
       "<matplotlib.collections.PathCollection at 0x10e09e80>"
      ]
     },
     "execution_count": 40,
     "metadata": {},
     "output_type": "execute_result"
    },
    {
     "data": {
      "image/png": "[encoded data removed]",
      "text/plain": [
       "<matplotlib.figure.Figure at 0xda9a4e0>"
      ]
     },
     "metadata": {},
     "output_type": "display_data"
    }
   ],
   "source": [
    "plt.scatter(num_close,freq_mil)"
   ]
  },
  {
   "cell_type": "markdown",
   "metadata": {},
   "source": [
    "**Тут тоже не видно четко выраженной корреляции,тк при упоминание Миллера 1 раз, у нас цена закрытия изменяется в широком диапазоне.**\n"
   ]
  },
  {
   "cell_type": "code",
   "execution_count": 28,
   "metadata": {},
   "outputs": [
    {
     "data": {
      "text/plain": [
       "[('газпром', 'исключать'),\n",
       " ('исключать', 'год'),\n",
       " ('год', 'выпуск'),\n",
       " ('выпуск', 'облигация'),\n",
       " ('облигация', 'примерно'),\n",
       " ('примерно', 'половина'),\n",
       " ('половина', 'общий'),\n",
       " ('общий', 'объём'),\n",
       " ('объём', 'заимствование'),\n",
       " ('заимствование', 'планироваться'),\n",
       " ('планироваться', 'текущий'),\n",
       " ('текущий', 'год'),\n",
       " ('год', 'сообщить'),\n",
       " ('сообщить', 'телефонный'),\n",
       " ('телефонный', 'конференция'),\n",
       " ('конференция', 'понедельник'),\n",
       " ('понедельник', 'начальник'),\n",
       " ('начальник', 'управление'),\n",
       " ('управление', 'работа'),\n",
       " ('работа', 'финансовый'),\n",
       " ('финансовый', 'рынок'),\n",
       " ('рынок', 'холдинг'),\n",
       " ('холдинг', 'пётр'),\n",
       " ('пётр', 'бакаев'),\n",
       " ('газпром', 'готовый'),\n",
       " ('готовый', 'забирать'),\n",
       " ('забирать', 'весь'),\n",
       " ('весь', 'объесть'),\n",
       " ('объесть', 'азербайджанский'),\n",
       " ('азербайджанский', 'газа'),\n",
       " ('газа', 'баку'),\n",
       " ('баку', 'готовый'),\n",
       " ('готовый', 'поставить'),\n",
       " ('поставить', 'заявить'),\n",
       " ('заявить', 'вторник'),\n",
       " ('вторник', 'глава'),\n",
       " ('глава', 'газпром'),\n",
       " ('газпром', 'алексей'),\n",
       " ('алексей', 'миллер'),\n",
       " ('миллер', 'специфика'),\n",
       " ('специфика', 'контракт'),\n",
       " ('контракт', 'азербайджан'),\n",
       " ('азербайджан', 'заключаться'),\n",
       " ('заключаться', 'предел'),\n",
       " ('предел', 'верхний'),\n",
       " ('верхний', 'закупка'),\n",
       " ('закупка', 'газа'),\n",
       " ('газа', 'это'),\n",
       " ('это', 'единственный'),\n",
       " ('единственный', 'контракт'),\n",
       " ('контракт', 'газпром'),\n",
       " ('газпром', 'записать'),\n",
       " ('записать', 'такой'),\n",
       " ('такой', 'условие'),\n",
       " ('условие', 'готовый'),\n",
       " ('готовый', 'забирать'),\n",
       " ('забирать', 'столько'),\n",
       " ('столько', 'газа'),\n",
       " ('газа', 'азербайджанский'),\n",
       " ('азербайджанский', 'сколько'),\n",
       " ('сколько', 'наш'),\n",
       " ('наш', 'азербайджанский'),\n",
       " ('азербайджанский', 'коллега'),\n",
       " ('коллега', 'готовый'),\n",
       " ('готовый', 'поставить'),\n",
       " ('поставить', 'сказать'),\n",
       " ('сказать', 'миллер'),\n",
       " ('консорциум', 'глава'),\n",
       " ('глава', 'российский'),\n",
       " ('российский', 'оао'),\n",
       " ('оао', 'газпром'),\n",
       " ('газпром', 'нефть'),\n",
       " ('нефть', 'четверг'),\n",
       " ('четверг', 'подписать'),\n",
       " ('подписать', 'контракт'),\n",
       " ('контракт', 'разработка'),\n",
       " ('разработка', 'месторождение'),\n",
       " ('месторождение', 'бадра'),\n",
       " ('бадра', 'ирак'),\n",
       " ('ирак', 'говориться'),\n",
       " ('говориться', 'сообщение'),\n",
       " ('сообщение', 'компания'),\n",
       " ('компания', 'контракт'),\n",
       " ('контракт', 'правительство'),\n",
       " ('правительство', 'ирак'),\n",
       " ('ирак', 'подписать'),\n",
       " ('подписать', 'заместитель'),\n",
       " ('заместитель', 'генеральный'),\n",
       " ('генеральный', 'директор'),\n",
       " ('директор', 'разведка'),\n",
       " ('разведка', 'добыча'),\n",
       " ('добыча', 'газпром'),\n",
       " ('газпром', 'нефть'),\n",
       " ('нефть', 'борис'),\n",
       " ('борис', 'зильберминц'),\n",
       " ('зильберминц', 'консорциум'),\n",
       " ('консорциум', 'глава'),\n",
       " ('глава', 'российский'),\n",
       " ('российский', 'оао'),\n",
       " ('оао', 'газпром'),\n",
       " ('газпром', 'нефть'),\n",
       " ('нефть', 'четверг'),\n",
       " ('четверг', 'подписать'),\n",
       " ('подписать', 'контракт'),\n",
       " ('контракт', 'разработка'),\n",
       " ('разработка', 'месторождение'),\n",
       " ('месторождение', 'бадра'),\n",
       " ('бадра', 'ирак'),\n",
       " ('ирак', 'говориться'),\n",
       " ('говориться', 'сообщение'),\n",
       " ('сообщение', 'компания'),\n",
       " ('компания', 'контракт'),\n",
       " ('контракт', 'правительство'),\n",
       " ('правительство', 'ирак'),\n",
       " ('ирак', 'подписать'),\n",
       " ('подписать', 'заместитель'),\n",
       " ('заместитель', 'генеральный'),\n",
       " ('генеральный', 'директор'),\n",
       " ('директор', 'разведка'),\n",
       " ('разведка', 'добыча'),\n",
       " ('добыча', 'газпром'),\n",
       " ('газпром', 'нефть'),\n",
       " ('нефть', 'борис'),\n",
       " ('борис', 'зильберминц'),\n",
       " ('газпромбанк', 'открыть'),\n",
       " ('открыть', 'кипр'),\n",
       " ('кипр', 'дочерний'),\n",
       " ('дочерний', 'компания'),\n",
       " ('компания', 'инвестиционный'),\n",
       " ('инвестиционный', 'компания'),\n",
       " ('компания', 'деятельность'),\n",
       " ('деятельность', 'который'),\n",
       " ('который', 'регулироваться'),\n",
       " ('регулироваться', 'кипрский'),\n",
       " ('кипрский', 'комиссия'),\n",
       " ('комиссия', 'ценный'),\n",
       " ('ценный', 'бумага'),\n",
       " ('бумага', 'биржа'),\n",
       " ('биржа', 'стратегический'),\n",
       " ('стратегический', 'цель'),\n",
       " ('цель', 'банк'),\n",
       " ('банк', 'называть'),\n",
       " ('называть', 'предоставление'),\n",
       " ('предоставление', 'доступ'),\n",
       " ('доступ', 'клиент'),\n",
       " ('клиент', 'глобальный'),\n",
       " ('глобальный', 'рынок'),\n",
       " ('рынок', 'капитал'),\n",
       " ('капитал', 'развитие'),\n",
       " ('развитие', 'бизнес'),\n",
       " ('бизнес', 'иностранный'),\n",
       " ('иностранный', 'институциональный'),\n",
       " ('институциональный', 'инвестор'),\n",
       " ('газпром', 'вновь'),\n",
       " ('вновь', 'понизить'),\n",
       " ('понизить', 'прогноз'),\n",
       " ('прогноз', 'экспорт'),\n",
       " ('экспорт', 'европа'),\n",
       " ('европа', 'уровень'),\n",
       " ('уровень', 'год'),\n",
       " ('год', 'регион'),\n",
       " ('регион', 'направить'),\n",
       " ('направить', 'миллиард'),\n",
       " ('миллиард', 'кубометр'),\n",
       " ('кубометр', 'газа'),\n",
       " ('газа', 'сказать'),\n",
       " ('сказать', 'финдиректор'),\n",
       " ('финдиректор', 'компания'),\n",
       " ('компания', 'газпром'),\n",
       " ('газпром', 'увеличить'),\n",
       " ('увеличить', 'чистый'),\n",
       " ('чистый', 'прибыль'),\n",
       " ('прибыль', 'мсфо'),\n",
       " ('мсфо', 'квартал'),\n",
       " ('квартал', 'раз'),\n",
       " ('раз', 'сравнение'),\n",
       " ('сравнение', 'аналогичный'),\n",
       " ('аналогичный', 'период'),\n",
       " ('период', 'прошлое'),\n",
       " ('прошлое', 'год'),\n",
       " ('год', 'миллиард'),\n",
       " ('миллиард', 'рубль'),\n",
       " ('рубль', 'сообщить'),\n",
       " ('сообщить', 'компания'),\n",
       " ('компания', 'четверг'),\n",
       " ('четверг', 'выручка'),\n",
       " ('выручка', 'холдинг'),\n",
       " ('холдинг', 'увеличиться'),\n",
       " ('увеличиться', 'сравнение'),\n",
       " ('сравнение', 'аналогичный'),\n",
       " ('аналогичный', 'период'),\n",
       " ('период', 'год'),\n",
       " ('год', 'миллиард'),\n",
       " ('миллиард', 'рубль'),\n",
       " ('рубль', 'власть'),\n",
       " ('власть', 'польша'),\n",
       " ('польша', 'вслед'),\n",
       " ('вслед', 'страна'),\n",
       " ('страна', 'прибалтика'),\n",
       " ('прибалтика', 'хотеть'),\n",
       " ('хотеть', 'отстранить'),\n",
       " ('отстранить', 'газпром'),\n",
       " ('газпром', 'управление'),\n",
       " ('управление', 'газопровод'),\n",
       " ('газопровод', 'проходить'),\n",
       " ('проходить', 'территория'),\n",
       " ('территория', 'страна'),\n",
       " ('страна', 'рамка'),\n",
       " ('рамка', 'реализация'),\n",
       " ('реализация', 'положение'),\n",
       " ('положение', 'третье'),\n",
       " ('третье', 'энергопакет'),\n",
       " ('энергопакет', 'ес'),\n",
       " ('ес', 'польша'),\n",
       " ('польша', 'предлагать'),\n",
       " ('предлагать', 'передать'),\n",
       " ('передать', 'местный'),\n",
       " ('местный', 'участок'),\n",
       " ('участок', 'газопровод'),\n",
       " ('газопровод', 'ямал'),\n",
       " ('ямал', 'европа'),\n",
       " ('европа', 'мощность'),\n",
       " ('мощность', 'миллиард'),\n",
       " ('миллиард', 'кубометр'),\n",
       " ('кубометр', 'газа'),\n",
       " ('газа', 'год'),\n",
       " ('год', 'контроль'),\n",
       " ('контроль', 'государственный'),\n",
       " ('государственный', 'газпром'),\n",
       " ('газпром', 'готовый'),\n",
       " ('готовый', 'принять'),\n",
       " ('принять', 'услуга'),\n",
       " ('услуга', 'компания'),\n",
       " ('компания', 'технический'),\n",
       " ('технический', 'оператор'),\n",
       " ('европейский', 'комиссия'),\n",
       " ('комиссия', 'довольный'),\n",
       " ('довольный', 'итог'),\n",
       " ('итог', 'российско'),\n",
       " ('российско', 'польский'),\n",
       " ('польский', 'переговоры'),\n",
       " ('переговоры', 'газовый'),\n",
       " ('газовый', 'сфера'),\n",
       " ('сфера', 'который'),\n",
       " ('который', 'ранее'),\n",
       " ('ранее', 'вызывать'),\n",
       " ('вызывать', 'вопрос'),\n",
       " ('вопрос', 'сообщить'),\n",
       " ('сообщить', 'вторник'),\n",
       " ('вторник', 'газпром'),\n",
       " ('газпром', 'итог'),\n",
       " ('итог', 'встреча'),\n",
       " ('встреча', 'глава'),\n",
       " ('глава', 'компания'),\n",
       " ('компания', 'алексей'),\n",
       " ('алексей', 'миллер'),\n",
       " ('миллер', 'еврокомиссар'),\n",
       " ('еврокомиссар', 'энергетика'),\n",
       " ('энергетика', 'гюнтер'),\n",
       " ('гюнтер', 'эттингера'),\n",
       " ('эттингера', 'рамка'),\n",
       " ('рамка', 'беседа'),\n",
       " ('беседа', 'гюнтер'),\n",
       " ('гюнтер', 'эттингера'),\n",
       " ('эттингера', 'имя'),\n",
       " ('имя', 'европейский'),\n",
       " ('европейский', 'комиссия'),\n",
       " ('комиссия', 'выразить'),\n",
       " ('выразить', 'удовлетворение'),\n",
       " ('удовлетворение', 'ход'),\n",
       " ('ход', 'итог'),\n",
       " ('итог', 'российско'),\n",
       " ('российско', 'польский'),\n",
       " ('польский', 'переговоры'),\n",
       " ('переговоры', 'сотрудничество'),\n",
       " ('сотрудничество', 'газовый'),\n",
       " ('газовый', 'сфера'),\n",
       " ('сфера', 'указать'),\n",
       " ('указать', 'сообщение'),\n",
       " ('российский', 'газпром'),\n",
       " ('газпром', 'сообщить'),\n",
       " ('сообщить', 'план'),\n",
       " ('план', 'увеличение'),\n",
       " ('увеличение', 'добыча'),\n",
       " ('добыча', 'газа'),\n",
       " ('газа', 'год'),\n",
       " ('год', 'миллиард'),\n",
       " ('миллиард', 'куб'),\n",
       " ('куб', 'метр'),\n",
       " ('метр', 'поддержать'),\n",
       " ('поддержать', 'оптимизм'),\n",
       " ('оптимизм', 'свой'),\n",
       " ('свой', 'топ'),\n",
       " ('топ', 'менеджер'),\n",
       " ('менеджер', 'обещать'),\n",
       " ('обещать', 'высокий'),\n",
       " ('высокий', 'показатель'),\n",
       " ('переговоры', 'оао'),\n",
       " ('оао', 'газпром'),\n",
       " ('газпром', 'оператор'),\n",
       " ('оператор', 'проект'),\n",
       " ('проект', 'сахалин'),\n",
       " ('сахалин', 'компания'),\n",
       " ('компания', 'поставка'),\n",
       " ('поставка', 'газа'),\n",
       " ('газа', 'настоящее'),\n",
       " ('настоящее', 'время'),\n",
       " ('время', 'приостановить'),\n",
       " ('приостановить', 'сообщить'),\n",
       " ('сообщить', 'среда'),\n",
       " ('среда', 'пресс'),\n",
       " ('пресс', 'конференция'),\n",
       " ('конференция', 'губернатор'),\n",
       " ('губернатор', 'сахалинский'),\n",
       " ('сахалинский', 'область'),\n",
       " ('область', 'александр'),\n",
       " ('александр', 'хорошавин'),\n",
       " ('газпром', 'пытаться'),\n",
       " ('пытаться', 'сохранить'),\n",
       " ('сохранить', 'влияние'),\n",
       " ('влияние', 'каспийский'),\n",
       " ('каспийский', 'регион'),\n",
       " ('регион', 'договориться'),\n",
       " ('договориться', 'увеличение'),\n",
       " ('увеличение', 'закупка'),\n",
       " ('закупка', 'газа'),\n",
       " ('газа', 'азербайджан'),\n",
       " ('азербайджан', 'миллиард'),\n",
       " ('миллиард', 'куб'),\n",
       " ('куб', 'метр'),\n",
       " ('метр', 'следующий'),\n",
       " ('следующий', 'год'),\n",
       " ('год', 'рассчитывать'),\n",
       " ('рассчитывать', 'постепенно'),\n",
       " ('постепенно', 'увеличить'),\n",
       " ('увеличить', 'объесть'),\n",
       " ('газпром', 'нефть'),\n",
       " ('нефть', 'оценивать'),\n",
       " ('оценивать', 'сумма'),\n",
       " ('сумма', 'необходимый'),\n",
       " ('необходимый', 'покупка'),\n",
       " ('покупка', 'контрольный'),\n",
       " ('контрольный', 'пакет'),\n",
       " ('пакет', 'компания'),\n",
       " ('компания', 'северэнергия'),\n",
       " ('северэнергия', 'партнерство'),\n",
       " ('партнерство', 'новатэк'),\n",
       " ('новатэк', 'миллиард'),\n",
       " ('миллиард', 'учёт'),\n",
       " ('учёт', 'долг'),\n",
       " ('долг', 'сказать'),\n",
       " ('сказать', 'заместитель'),\n",
       " ('заместитель', 'гендиректор'),\n",
       " ('гендиректор', 'газпром'),\n",
       " ('газпром', 'нефть'),\n",
       " ('нефть', 'вадим'),\n",
       " ('вадим', 'яковлев'),\n",
       " ('яковлев', 'слово'),\n",
       " ('слово', 'учёт'),\n",
       " ('учёт', 'долг'),\n",
       " ('долг', 'северэнергия'),\n",
       " ('северэнергия', 'который'),\n",
       " ('который', 'продавать'),\n",
       " ('продавать', 'газпром'),\n",
       " ('газпром', 'сделка'),\n",
       " ('сделка', 'обойтись'),\n",
       " ('обойтись', 'совместный'),\n",
       " ('совместный', 'предприятие'),\n",
       " ('предприятие', 'новатэк'),\n",
       " ('новатэк', 'газпром'),\n",
       " ('газпром', 'нефть'),\n",
       " ('нефть', 'миллиард'),\n",
       " ('миллиард', 'газпром'),\n",
       " ('газпром', 'нефть'),\n",
       " ('нефть', 'оценивать'),\n",
       " ('оценивать', 'сумма'),\n",
       " ('сумма', 'необходимый'),\n",
       " ('необходимый', 'покупка'),\n",
       " ('покупка', 'контрольный'),\n",
       " ('контрольный', 'пакет'),\n",
       " ('пакет', 'компания'),\n",
       " ('компания', 'северэнергия'),\n",
       " ('северэнергия', 'партнерство'),\n",
       " ('партнерство', 'новатэк'),\n",
       " ('новатэк', 'миллиард'),\n",
       " ('миллиард', 'учёт'),\n",
       " ('учёт', 'долг'),\n",
       " ('долг', 'сказать'),\n",
       " ('сказать', 'заместитель'),\n",
       " ('заместитель', 'гендиректор'),\n",
       " ('гендиректор', 'газпром'),\n",
       " ('газпром', 'нефть'),\n",
       " ('нефть', 'вадим'),\n",
       " ('вадим', 'яковлев'),\n",
       " ('яковлев', 'слово'),\n",
       " ('слово', 'учёт'),\n",
       " ('учёт', 'долг'),\n",
       " ('долг', 'северэнергия'),\n",
       " ('северэнергия', 'который'),\n",
       " ('который', 'продавать'),\n",
       " ('продавать', 'газпром'),\n",
       " ('газпром', 'сделка'),\n",
       " ('сделка', 'обойтись'),\n",
       " ('обойтись', 'совместный'),\n",
       " ('совместный', 'предприятие'),\n",
       " ('предприятие', 'новатэк'),\n",
       " ('новатэк', 'газпром'),\n",
       " ('газпром', 'нефть'),\n",
       " ('нефть', 'миллиард'),\n",
       " ('газпром', 'назвать'),\n",
       " ('назвать', 'участник'),\n",
       " ('участник', 'конкурс'),\n",
       " ('конкурс', 'отбор'),\n",
       " ('отбор', 'организатор'),\n",
       " ('организатор', 'размещение'),\n",
       " ('размещение', 'свой'),\n",
       " ('свой', 'биржевой'),\n",
       " ('биржевой', 'облигация'),\n",
       " ('облигация', 'общий'),\n",
       " ('общий', 'объём'),\n",
       " ('объём', 'миллиард'),\n",
       " ('миллиард', 'рубль'),\n",
       " ('рубль', 'среди'),\n",
       " ('среди', 'претендент'),\n",
       " ('претендент', 'крупный'),\n",
       " ('крупный', 'российский'),\n",
       " ('российский', 'инвестиционный'),\n",
       " ('инвестиционный', 'банка'),\n",
       " ('глава', 'газпром'),\n",
       " ('газпром', 'новатэк'),\n",
       " ('новатэк', 'леонид'),\n",
       " ('леонид', 'михельсон'),\n",
       " ('михельсон', 'алексей'),\n",
       " ('алексей', 'миллер'),\n",
       " ('миллер', 'договориться'),\n",
       " ('договориться', 'принцип'),\n",
       " ('принцип', 'реализация'),\n",
       " ('реализация', 'газа'),\n",
       " ('газа', 'южный'),\n",
       " ('южный', 'тамбейский'),\n",
       " ('тамбейский', 'месторождение'),\n",
       " ('месторождение', 'ямал'),\n",
       " ('ямал', 'газпром'),\n",
       " ('газпром', 'экспорт'),\n",
       " ('экспорт', 'экспортировать'),\n",
       " ('экспортировать', 'сжидить'),\n",
       " ('сжидить', 'природный'),\n",
       " ('природный', 'газ'),\n",
       " ('газ', 'ямал'),\n",
       " ('ямал', 'спг'),\n",
       " ('спг', 'возвращать'),\n",
       " ('возвращать', 'новатэк'),\n",
       " ('новатэк', 'доход'),\n",
       " ('доход', 'продажа'),\n",
       " ('продажа', 'газа'),\n",
       " ('газа', 'новатэк'),\n",
       " ('новатэк', 'партнерство'),\n",
       " ('партнерство', 'иностранный'),\n",
       " ('иностранный', 'компания'),\n",
       " ('компания', 'построить'),\n",
       " ('построить', 'комплекс'),\n",
       " ('комплекс', 'добыча'),\n",
       " ('добыча', 'сжижение'),\n",
       " ('сжижение', 'газа'),\n",
       " ('газа', 'сохранить'),\n",
       " ('сохранить', 'себя'),\n",
       " ('себя', 'продажа'),\n",
       " ('продажа', 'конденсат'),\n",
       " ('итог', 'год'),\n",
       " ('год', 'чистый'),\n",
       " ('чистый', 'прибыль'),\n",
       " ('прибыль', 'газпром'),\n",
       " ('газпром', 'нефть'),\n",
       " ('нефть', 'рсб'),\n",
       " ('рсб', 'вырасти'),\n",
       " ('вырасти', 'миллиард'),\n",
       " ('миллиард', 'рубль'),\n",
       " ('рубль', 'квартал'),\n",
       " ('квартал', 'год'),\n",
       " ('год', 'чистый'),\n",
       " ('чистый', 'прибыль'),\n",
       " ('прибыль', 'компания'),\n",
       " ('компания', 'составить'),\n",
       " ('составить', 'миллиард'),\n",
       " ('миллиард', 'рубль'),\n",
       " ('рубль', 'против'),\n",
       " ('против', 'миллиард'),\n",
       " ('миллиард', 'рубль'),\n",
       " ('рубль', 'квартал'),\n",
       " ('квартал', 'год'),\n",
       " ('год', 'говориться'),\n",
       " ('говориться', 'сообщение'),\n",
       " ('сообщение', 'компания'),\n",
       " ('компания', 'изменение'),\n",
       " ('изменение', 'прибыть'),\n",
       " ('прибыть', 'такой'),\n",
       " ('такой', 'соотношение'),\n",
       " ('соотношение', 'компания'),\n",
       " ('компания', 'объяснять'),\n",
       " ('объяснять', 'существенный'),\n",
       " ('существенный', 'снижение'),\n",
       " ('снижение', 'выручка'),\n",
       " ('выручка', 'продажа'),\n",
       " ('продажа', 'нефтепродукт'),\n",
       " ('нефтепродукт', 'внутренний'),\n",
       " ('внутренний', 'рынок'),\n",
       " ('сегодня', 'пройти'),\n",
       " ('пройти', 'годовой'),\n",
       " ('годовой', 'собрание'),\n",
       " ('собрание', 'акционер'),\n",
       " ('акционер', 'белорусский'),\n",
       " ('белорусский', 'газотранспортный'),\n",
       " ('газотранспортный', 'предприятие'),\n",
       " ('предприятие', 'оао'),\n",
       " ('оао', 'белтрансгаз'),\n",
       " ('белтрансгаз', 'повестка'),\n",
       " ('повестка', 'вопрос'),\n",
       " ('вопрос', 'увеличение'),\n",
       " ('увеличение', 'количество'),\n",
       " ('количество', 'представитель'),\n",
       " ('представитель', 'газпром'),\n",
       " ('газпром', 'наблюдательный'),\n",
       " ('наблюдательный', 'совет'),\n",
       " ('совет', 'компания'),\n",
       " ('компания', 'сообщить'),\n",
       " ('сообщить', 'представитель'),\n",
       " ('представитель', 'предприятие'),\n",
       " ('российский', 'газовый'),\n",
       " ('газовый', 'монополист'),\n",
       " ('монополист', 'компания'),\n",
       " ('компания', 'газпром'),\n",
       " ('газпром', 'подтвердить'),\n",
       " ('подтвердить', 'факт'),\n",
       " ('факт', 'оплата'),\n",
       " ('оплата', 'украинский'),\n",
       " ('украинский', 'стороной'),\n",
       " ('стороной', 'поставка'),\n",
       " ('поставка', 'газа'),\n",
       " ('газа', 'январь'),\n",
       " ('январь', 'текущий'),\n",
       " ('текущий', 'год'),\n",
       " ('министр', 'природный'),\n",
       " ('природный', 'ресурс'),\n",
       " ('ресурс', 'рф'),\n",
       " ('рф', 'юрий'),\n",
       " ('юрий', 'трутнеть'),\n",
       " ('трутнеть', 'рассказать'),\n",
       " ('рассказать', 'газпром'),\n",
       " ('газпром', 'считать'),\n",
       " ('считать', 'рост'),\n",
       " ('рост', 'добыча'),\n",
       " ('добыча', 'сланцевый'),\n",
       " ('сланцевый', 'газа'),\n",
       " ('газа', 'мир'),\n",
       " ('мир', 'проблема'),\n",
       " ('проблема', 'россия'),\n",
       " ('россия', 'считать'),\n",
       " ('считать', 'перспектива'),\n",
       " ('перспектива', 'изменение'),\n",
       " ('изменение', 'газовый'),\n",
       " ('газовый', 'рынок'),\n",
       " ('рынок', 'влияние'),\n",
       " ('влияние', 'сланцевый'),\n",
       " ('сланцевый', 'газа'),\n",
       " ('газа', 'существовать'),\n",
       " ('существовать', 'сказать'),\n",
       " ('сказать', 'трутнеть'),\n",
       " ('трутнеть', 'проблема'),\n",
       " ('проблема', 'сланцевый'),\n",
       " ('сланцевый', 'газа'),\n",
       " ('газа', 'это'),\n",
       " ('это', 'позиция'),\n",
       " ('позиция', 'газпром'),\n",
       " ('группа', 'видео'),\n",
       " ('видео', 'интернешнл'),\n",
       " ('интернешнл', 'смочь'),\n",
       " ('смочь', 'увеличить'),\n",
       " ('увеличить', 'продажа'),\n",
       " ('продажа', 'телереклама'),\n",
       " ('телереклама', 'первое'),\n",
       " ('первое', 'квартал'),\n",
       " ('квартал', 'год'),\n",
       " ('год', 'зато'),\n",
       " ('зато', 'главный'),\n",
       " ('главный', 'конкурент'),\n",
       " ('конкурент', 'два'),\n",
       " ('два', 'величина'),\n",
       " ('величина', 'селлера'),\n",
       " ('селлера', 'страна'),\n",
       " ('страна', 'альянс'),\n",
       " ('альянс', 'газпром'),\n",
       " ('газпром', 'медиа'),\n",
       " ('медиа', 'алькасар'),\n",
       " ('алькасар', 'добиться'),\n",
       " ('добиться', 'процентный'),\n",
       " ('процентный', 'рост'),\n",
       " ('рост', 'ви'),\n",
       " ('ви', 'впервые'),\n",
       " ('впервые', 'уступить'),\n",
       " ('уступить', 'динамика'),\n",
       " ('динамика', 'кризисный'),\n",
       " ('кризисный', 'год'),\n",
       " ('год', 'сопоставимый'),\n",
       " ('сопоставимый', 'продажа'),\n",
       " ('продажа', 'натуральный'),\n",
       " ('натуральный', 'выражение'),\n",
       " ('выражение', 'вырасти'),\n",
       " ('вырасти', 'альянс'),\n",
       " ('альянс', 'снизиться'),\n",
       " ('год', 'газпром'),\n",
       " ('газпром', 'нефть'),\n",
       " ('нефть', 'намерить'),\n",
       " ('намерить', 'создать'),\n",
       " ('создать', 'республика'),\n",
       " ('республика', 'алтай'),\n",
       " ('алтай', 'туристический'),\n",
       " ('туристический', 'комплекс'),\n",
       " ('комплекс', 'алтайский'),\n",
       " ('алтайский', 'подворье'),\n",
       " ('подворье', 'стоимость'),\n",
       " ('стоимость', 'миллиард'),\n",
       " ('миллиард', 'рубль'),\n",
       " ('рубль', 'около'),\n",
       " ('около', 'миллиард'),\n",
       " ('миллиард', 'рубль'),\n",
       " ('рубль', 'выделить'),\n",
       " ('выделить', 'бюджет'),\n",
       " ('бюджет', 'рф'),\n",
       " ('рф', 'строительство'),\n",
       " ('строительство', 'автодорога'),\n",
       " ('автодорога', 'который'),\n",
       " ('который', 'соединить'),\n",
       " ('соединить', 'объект'),\n",
       " ('объект', 'чуйский'),\n",
       " ('чуйский', 'тракт'),\n",
       " ('тракт', 'инвестор'),\n",
       " ('инвестор', 'утверждать'),\n",
       " ('утверждать', 'комплекс'),\n",
       " ('комплекс', 'строиться'),\n",
       " ('строиться', 'основное'),\n",
       " ('основное', 'отдых'),\n",
       " ('отдых', 'работник'),\n",
       " ('работник', 'газовый'),\n",
       " ('газовый', 'монополия'),\n",
       " ('монополия', 'региональный'),\n",
       " ('региональный', 'власть'),\n",
       " ('власть', 'рассчитывать'),\n",
       " ('рассчитывать', 'новый'),\n",
       " ('новый', 'объект'),\n",
       " ('объект', 'позволить'),\n",
       " ('позволить', 'раскрутить'),\n",
       " ('раскрутить', 'регион'),\n",
       " ('регион', 'создаваться'),\n",
       " ('создаваться', 'особый'),\n",
       " ('особый', 'туристический'),\n",
       " ('туристический', 'зона'),\n",
       " ('зона', 'год'),\n",
       " ('год', 'газпром'),\n",
       " ('газпром', 'нефть'),\n",
       " ('нефть', 'намерить'),\n",
       " ('намерить', 'создать'),\n",
       " ('создать', 'республика'),\n",
       " ('республика', 'алтай'),\n",
       " ('алтай', 'туристический'),\n",
       " ('туристический', 'комплекс'),\n",
       " ('комплекс', 'алтайский'),\n",
       " ('алтайский', 'подворье'),\n",
       " ('подворье', 'стоимость'),\n",
       " ('стоимость', 'миллиард'),\n",
       " ('миллиард', 'рубль'),\n",
       " ('рубль', 'около'),\n",
       " ('около', 'миллиард'),\n",
       " ('миллиард', 'рубль'),\n",
       " ('рубль', 'выделить'),\n",
       " ('выделить', 'бюджет'),\n",
       " ('бюджет', 'рф'),\n",
       " ('рф', 'строительство'),\n",
       " ('строительство', 'автодорога'),\n",
       " ('автодорога', 'который'),\n",
       " ('который', 'соединить'),\n",
       " ('соединить', 'объект'),\n",
       " ('объект', 'чуйский'),\n",
       " ('чуйский', 'тракт'),\n",
       " ('тракт', 'инвестор'),\n",
       " ('инвестор', 'утверждать'),\n",
       " ('утверждать', 'комплекс'),\n",
       " ('комплекс', 'строиться'),\n",
       " ('строиться', 'основное'),\n",
       " ('основное', 'отдых'),\n",
       " ('отдых', 'работник'),\n",
       " ('работник', 'газовый'),\n",
       " ('газовый', 'монополия'),\n",
       " ('монополия', 'региональный'),\n",
       " ('региональный', 'власть'),\n",
       " ('власть', 'рассчитывать'),\n",
       " ('рассчитывать', 'новый'),\n",
       " ('новый', 'объект'),\n",
       " ('объект', 'позволить'),\n",
       " ('позволить', 'раскрутить'),\n",
       " ('раскрутить', 'регион'),\n",
       " ('регион', 'создаваться'),\n",
       " ('создаваться', 'особый'),\n",
       " ('особый', 'туристический'),\n",
       " ('туристический', 'зона'),\n",
       " ('российский', 'власть'),\n",
       " ('власть', 'готовый'),\n",
       " ('готовый', 'отказаться'),\n",
       " ('отказаться', 'отзыв'),\n",
       " ('отзыв', 'тнк'),\n",
       " ('тнк', 'вр'),\n",
       " ('вр', 'лицензия'),\n",
       " ('лицензия', 'ковыкт'),\n",
       " ('ковыкт', 'российско'),\n",
       " ('российско', 'британский'),\n",
       " ('британский', 'компания'),\n",
       " ('компания', 'допустить'),\n",
       " ('допустить', 'разработка'),\n",
       " ('разработка', 'гигантский'),\n",
       " ('гигантский', 'газовый'),\n",
       " ('газовый', 'месторождение'),\n",
       " ('месторождение', 'газпром'),\n",
       " ('газпром', 'сказать'),\n",
       " ('сказать', 'министр'),\n",
       " ('министр', 'природный'),\n",
       " ('природный', 'ресурс'),\n",
       " ('ресурс', 'рф'),\n",
       " ('рф', 'юрий'),\n",
       " ('юрий', 'трутнеть'),\n",
       " ('трутнеть', 'спешить'),\n",
       " ('спешить', 'отзыв'),\n",
       " ('отзыв', 'лицензия'),\n",
       " ('лицензия', 'отзыв'),\n",
       " ('отзыв', 'лицензия'),\n",
       " ('лицензия', 'вызвать'),\n",
       " ('вызвать', 'потеря'),\n",
       " ('потеря', 'значительный'),\n",
       " ('значительный', 'инвестиция'),\n",
       " ('инвестиция', 'компания'),\n",
       " ('компания', 'соответственно'),\n",
       " ('соответственно', 'ухудшение'),\n",
       " ('ухудшение', 'инвестиционный'),\n",
       " ('инвестиционный', 'климат'),\n",
       " ('климат', 'сказать'),\n",
       " ('сказать', 'чиновник'),\n",
       " ('чиновник', 'изначально'),\n",
       " ('изначально', 'разговор'),\n",
       " ('разговор', 'идти'),\n",
       " ('идти', 'совместный'),\n",
       " ('совместный', 'газпром'),\n",
       " ('газпром', 'разработка'),\n",
       " ('разработка', 'месторождение'),\n",
       " ('месторождение', 'считать'),\n",
       " ('считать', 'это'),\n",
       " ('это', 'выход'),\n",
       " ('выход', 'добавить'),\n",
       " ('российский', 'газпром'),\n",
       " ('газпром', 'итальянский'),\n",
       " ('итальянский', 'уступить'),\n",
       " ('уступить', 'французский'),\n",
       " ('французский', 'компания'),\n",
       " ('компания', 'свой'),\n",
       " ('свой', 'доля'),\n",
       " ('доля', 'проект'),\n",
       " ('проект', 'строительство'),\n",
       " ('строительство', 'газопровод'),\n",
       " ('газопровод', 'россия'),\n",
       " ('россия', 'европа'),\n",
       " ('европа', 'южный'),\n",
       " ('южный', 'поток'),\n",
       " ('поток', 'российский'),\n",
       " ('российский', 'премьер'),\n",
       " ('премьер', 'владимир'),\n",
       " ('владимир', 'путин'),\n",
       " ('путин', 'сказать'),\n",
       " ('сказать', 'компания'),\n",
       " ('компания', 'который'),\n",
       " ('который', 'настоящее'),\n",
       " ('настоящее', 'время'),\n",
       " ('время', 'являться'),\n",
       " ('являться', 'паритетный'),\n",
       " ('паритетный', 'владелец'),\n",
       " ('владелец', 'южный'),\n",
       " ('южный', 'поток'),\n",
       " ('поток', 'согласиться'),\n",
       " ('согласиться', 'уменьшить'),\n",
       " ('уменьшить', 'свой'),\n",
       " ('свой', 'доля'),\n",
       " ('доля', 'поровну'),\n",
       " ('поровну', 'обеспечить'),\n",
       " ('обеспечить', 'ный'),\n",
       " ('ный', 'пакет'),\n",
       " ('пакет', 'который'),\n",
       " ('который', 'рассчитывать'),\n",
       " ('рассчитывать', 'роснедра'),\n",
       " ('роснедра', 'июнь'),\n",
       " ('июнь', 'выставлять'),\n",
       " ('выставлять', 'аукцион'),\n",
       " ('аукцион', 'четыре'),\n",
       " ('четыре', 'участок'),\n",
       " ('участок', 'ямало'),\n",
       " ('ямало', 'ненецкий'),\n",
       " ('ненецкий', 'ао'),\n",
       " ('ао', 'самый'),\n",
       " ('самый', 'крупный'),\n",
       " ('крупный', 'оцениваться'),\n",
       " ('оцениваться', 'миллион'),\n",
       " ('миллион', 'заинтересовать'),\n",
       " ('заинтересовать', 'госкомпания'),\n",
       " ('госкомпания', 'роснефть'),\n",
       " ('роснефть', 'газпром'),\n",
       " ('газпром', 'нефть'),\n",
       " ('нефть', 'участок'),\n",
       " ('участок', 'год'),\n",
       " ('год', 'работать'),\n",
       " ('работать', 'новатечь'),\n",
       " ('новатечь', 'сдать'),\n",
       " ('сдать', 'лицензия'),\n",
       " ('лицензия', 'стартовый'),\n",
       " ('стартовый', 'цена'),\n",
       " ('цена', 'месторождение'),\n",
       " ('месторождение', 'вдвое'),\n",
       " ('вдвое', 'выше'),\n",
       " ('выше', 'обычно'),\n",
       " ('обычно', 'оцениваться'),\n",
       " ('оцениваться', 'запас'),\n",
       " ('запас', 'категория'),\n",
       " ('категория', 'аукцион'),\n",
       " ('аукцион', 'роснедра'),\n",
       " ('роснедра', 'июнь'),\n",
       " ('июнь', 'выставлять'),\n",
       " ('выставлять', 'аукцион'),\n",
       " ('аукцион', 'четыре'),\n",
       " ('четыре', 'участок'),\n",
       " ('участок', 'ямало'),\n",
       " ('ямало', 'ненецкий'),\n",
       " ('ненецкий', 'ао'),\n",
       " ('ао', 'самый'),\n",
       " ('самый', 'крупный'),\n",
       " ('крупный', 'оцениваться'),\n",
       " ('оцениваться', 'миллион'),\n",
       " ('миллион', 'заинтересовать'),\n",
       " ('заинтересовать', 'госкомпания'),\n",
       " ('госкомпания', 'роснефть'),\n",
       " ('роснефть', 'газпром'),\n",
       " ('газпром', 'нефть'),\n",
       " ('нефть', 'участок'),\n",
       " ('участок', 'год'),\n",
       " ('год', 'работать'),\n",
       " ('работать', 'новатечь'),\n",
       " ('новатечь', 'сдать'),\n",
       " ('сдать', 'лицензия'),\n",
       " ('лицензия', 'стартовый'),\n",
       " ('стартовый', 'цена'),\n",
       " ('цена', 'месторождение'),\n",
       " ('месторождение', 'вдвое'),\n",
       " ('вдвое', 'выше'),\n",
       " ('выше', 'обычно'),\n",
       " ('обычно', 'оцениваться'),\n",
       " ('оцениваться', 'запас'),\n",
       " ('запас', 'категория'),\n",
       " ('категория', 'аукцион'),\n",
       " ('газпром', 'медиа'),\n",
       " ('медиа', 'создавать'),\n",
       " ('создавать', 'один'),\n",
       " ('один', 'площадка'),\n",
       " ('площадка', 'интернет'),\n",
       " ('интернет', 'трансляция'),\n",
       " ('трансляция', 'чемпионат'),\n",
       " ('чемпионат', 'россия'),\n",
       " ('россия', 'футбол'),\n",
       " ('футбол', 'август'),\n",
       " ('август', 'показывать'),\n",
       " ('показывать', 'чемпионат'),\n",
       " ('чемпионат', 'режим'),\n",
       " ('режим', 'онлайн'),\n",
       " ('онлайн', 'начать'),\n",
       " ('начать', 'видеопортал'),\n",
       " ('видеопортал', 'причём'),\n",
       " ('причём', 'сайт'),\n",
       " ('сайт', 'нтв'),\n",
       " ('нтв', 'плюс'),\n",
       " ('плюс', 'просмотр'),\n",
       " ('просмотр', 'матч'),\n",
       " ('матч', 'зритель'),\n",
       " ('зритель', 'платный'),\n",
       " ('платный', 'принадлежащий'),\n",
       " ('принадлежащий', 'портал'),\n",
       " ('портал', 'который'),\n",
       " ('который', 'также'),\n",
       " ('также', 'владеть'),\n",
       " ('владеть', 'право'),\n",
       " ('право', 'трансляция'),\n",
       " ('трансляция', 'российский'),\n",
       " ('российский', 'премьер'),\n",
       " ('премьер', 'лига'),\n",
       " ('лига', 'сохранить'),\n",
       " ('сохранить', 'возможность'),\n",
       " ('возможность', 'бесплатный'),\n",
       " ('бесплатный', 'показ'),\n",
       " ('показ', 'лишь'),\n",
       " ('лишь', 'отдельный'),\n",
       " ('отдельный', 'матч'),\n",
       " ('газпромбанк', 'скупать'),\n",
       " ('скупать', 'акция'),\n",
       " ('акция', 'свой'),\n",
       " ('свой', 'топ'),\n",
       " ('топ', 'менеджер'),\n",
       " ('менеджер', 'получить'),\n",
       " ('получить', 'ценный'),\n",
       " ('ценный', 'бумага'),\n",
       " ('бумага', 'банка'),\n",
       " ('банка', 'рамка'),\n",
       " ('рамка', 'опционный'),\n",
       " ('опционный', 'программа'),\n",
       " ('программа', 'год'),\n",
       " ('год', 'председатель'),\n",
       " ('председатель', 'правление'),\n",
       " ('правление', 'газпромбанк'),\n",
       " ('газпромбанк', 'андрей'),\n",
       " ('андрей', 'аким'),\n",
       " ('аким', 'заместитель'),\n",
       " ('заместитель', 'фарид'),\n",
       " ('фарид', 'канцер'),\n",
       " ('канцер', 'полностью'),\n",
       " ('полностью', 'избавиться'),\n",
       " ('избавиться', 'свой'),\n",
       " ('свой', 'акция'),\n",
       " ('акция', 'реализация'),\n",
       " ('реализация', 'акция'),\n",
       " ('акция', 'топ'),\n",
       " ('топ', 'менеджер'),\n",
       " ('менеджер', 'газпромбанк'),\n",
       " ('газпромбанк', 'объясняться'),\n",
       " ('объясняться', 'падение'),\n",
       " ('падение', 'оценочный'),\n",
       " ('оценочный', 'стоимость'),\n",
       " ('стоимость', 'бумага'),\n",
       " ('бумага', 'вследствие'),\n",
       " ('вследствие', 'кризис'),\n",
       " ('кризис', 'считать'),\n",
       " ('считать', 'эксперт'),\n",
       " ('российский', 'газоэкспортный'),\n",
       " ('газоэкспортный', 'монополия'),\n",
       " ('монополия', 'газпром'),\n",
       " ('газпром', 'подписать'),\n",
       " ('подписать', 'июнь'),\n",
       " ('июнь', 'соглашение'),\n",
       " ('соглашение', 'греческий'),\n",
       " ('греческий', 'оператор'),\n",
       " ('оператор', 'газопровод'),\n",
       " ('газопровод', 'соглашение'),\n",
       " ('соглашение', 'строительство'),\n",
       " ('строительство', 'греческий'),\n",
       " ('греческий', 'участок'),\n",
       " ('участок', 'газопровод'),\n",
       " ('газопровод', 'южный'),\n",
       " ('южный', 'поток'),\n",
       " ('поток', 'сообщить'),\n",
       " ('сообщить', 'американский'),\n",
       " ('американский', 'отраслевой'),\n",
       " ('отраслевой', 'издание'),\n",
       " ('издание', 'представитель'),\n",
       " ('представитель', 'сотирис'),\n",
       " ('сотирис', 'хиотакиса'),\n",
       " ('хиотакиса', 'документ'),\n",
       " ('документ', 'планироваться'),\n",
       " ('планироваться', 'подписать'),\n",
       " ('подписать', 'москва'),\n",
       " ('соглашение', 'вхождение'),\n",
       " ('вхождение', 'французский'),\n",
       " ('французский', 'проект'),\n",
       " ('проект', 'строительство'),\n",
       " ('строительство', 'газопровод'),\n",
       " ('газопровод', 'подписать'),\n",
       " ('подписать', 'немецкий'),\n",
       " ('немецкий', 'акционер'),\n",
       " ('акционер', 'проект'),\n",
       " ('проект', 'июнь'),\n",
       " ('июнь', 'ход'),\n",
       " ('ход', 'петербургский'),\n",
       " ('петербургский', 'международный'),\n",
       " ('международный', 'экономический'),\n",
       " ('экономический', 'форум'),\n",
       " ('форум', 'француз'),\n",
       " ('француз', 'получить'),\n",
       " ('получить', 'акция'),\n",
       " ('акция', 'оператор'),\n",
       " ('оператор', 'проект'),\n",
       " ('проект', 'тот'),\n",
       " ('тот', 'условие'),\n",
       " ('условие', 'который'),\n",
       " ('который', 'год'),\n",
       " ('год', 'назад'),\n",
       " ('назад', 'войти'),\n",
       " ('войти', 'голландский'),\n",
       " ('голландский', 'формально'),\n",
       " ('формально', 'француз'),\n",
       " ('француз', 'выплатить'),\n",
       " ('выплатить', 'никакой'),\n",
       " ('никакой', 'бонус'),\n",
       " ...]"
      ]
     },
     "execution_count": 28,
     "metadata": {},
     "output_type": "execute_result"
    }
   ],
   "source": [
    "morph = pymorphy2.MorphAnalyzer()\n",
    "from nltk.corpus import stopwords\n",
    "token_bg_text = []\n",
    "for i in text_1:\n",
    "    token = nltk.word_tokenize(i)\n",
    "    token_bg_text += nltk.bigrams(morph.parse(j)[0].normal_form for j in token if j not in  stopwords.words('russian'))\n",
    "token_bg_text"
   ]
  },
  {
   "cell_type": "code",
   "execution_count": 29,
   "metadata": {},
   "outputs": [
    {
     "data": {
      "text/plain": [
       "39"
      ]
     },
     "execution_count": 29,
     "metadata": {},
     "output_type": "execute_result"
    }
   ],
   "source": [
    "freq_token = nltk.FreqDist(token_bg_text)\n",
    "freq_token[('турецкий','поток')]"
   ]
  },
  {
   "cell_type": "code",
   "execution_count": 30,
   "metadata": {},
   "outputs": [
    {
     "data": {
      "text/plain": [
       "15"
      ]
     },
     "execution_count": 30,
     "metadata": {},
     "output_type": "execute_result"
    }
   ],
   "source": [
    "freq_token = nltk.FreqDist(token_bg_text)\n",
    "freq_token[('северный','поток')]"
   ]
  },
  {
   "cell_type": "markdown",
   "metadata": {},
   "source": [
    "**Мы можем заметить, что Турецкий поток упоминается чаще, чем северный** "
   ]
  },
  {
   "cell_type": "code",
   "execution_count": 31,
   "metadata": {},
   "outputs": [
    {
     "data": {
      "text/plain": [
       "65"
      ]
     },
     "execution_count": 31,
     "metadata": {},
     "output_type": "execute_result"
    }
   ],
   "source": [
    "freq_token[('владимир','путин')]"
   ]
  },
  {
   "cell_type": "code",
   "execution_count": 32,
   "metadata": {},
   "outputs": [
    {
     "data": {
      "text/plain": [
       "122"
      ]
     },
     "execution_count": 32,
     "metadata": {},
     "output_type": "execute_result"
    }
   ],
   "source": [
    "freq_token[('алексей','миллер')]"
   ]
  },
  {
   "cell_type": "markdown",
   "metadata": {},
   "source": [
    "### Мы выидим, что Алексей Миллер упоминается в текстах чаще, чем Владимир Путин, однако для чистоты эксперимента , мы решили попробовать и другие биграммы , которыми мог быть описан президент"
   ]
  },
  {
   "cell_type": "code",
   "execution_count": 33,
   "metadata": {},
   "outputs": [
    {
     "data": {
      "text/plain": [
       "0"
      ]
     },
     "execution_count": 33,
     "metadata": {},
     "output_type": "execute_result"
    }
   ],
   "source": [
    "freq_token[('президент','путин')]"
   ]
  },
  {
   "cell_type": "code",
   "execution_count": 34,
   "metadata": {},
   "outputs": [
    {
     "data": {
      "text/plain": [
       "0"
      ]
     },
     "execution_count": 34,
     "metadata": {},
     "output_type": "execute_result"
    }
   ],
   "source": [
    "freq_token[('вв','путин')]"
   ]
  },
  {
   "cell_type": "code",
   "execution_count": 35,
   "metadata": {},
   "outputs": [
    {
     "data": {
      "text/plain": [
       "0"
      ]
     },
     "execution_count": 35,
     "metadata": {},
     "output_type": "execute_result"
    }
   ],
   "source": [
    "freq_token[('володя','путин')]"
   ]
  },
  {
   "cell_type": "code",
   "execution_count": 36,
   "metadata": {},
   "outputs": [
    {
     "data": {
      "text/plain": [
       "0"
      ]
     },
     "execution_count": 36,
     "metadata": {},
     "output_type": "execute_result"
    }
   ],
   "source": [
    "freq_token[('царь','батюшка')]"
   ]
  },
  {
   "cell_type": "markdown",
   "metadata": {},
   "source": [
    "### Как мы видим другие словосочетания не дали результата"
   ]
  },
  {
   "cell_type": "code",
   "execution_count": 37,
   "metadata": {
    "collapsed": true
   },
   "outputs": [],
   "source": [
    "sanction = []\n",
    "for san in token_bg_text:\n",
    "    if san[0] == 'санкция':\n",
    "        bg_2 = morph.parse(san[1])[0]\n",
    "        if (bg_2.tag.POS) == 'ADJF' or (bg_2.tag.POS) == 'ADJS' or (bg_2.tag.POS) == 'NOUN': \n",
    "            sanction.append(bg_2[0])\n",
    "    elif san[1] == 'санкция':\n",
    "        bg_1 = morph.parse(san[0])[0]\n",
    "        if (bg_1.tag.POS) == 'ADJF' or (bg_1.tag.POS) == 'ADJS' or (bg_1.tag.POS) == 'NOUN': \n",
    "            sanction.append(bg_1[0])"
   ]
  },
  {
   "cell_type": "code",
   "execution_count": 38,
   "metadata": {},
   "outputs": [
    {
     "name": "stdout",
     "output_type": "stream",
     "text": [
      "['эксперт', 'компания', 'россия', 'западный', 'секторальный', 'нефть', 'волна', 'мнение', 'падение', 'американский', 'предоставление', 'иностранец', 'несогласованный', 'условие', 'персональный', 'развитие', 'антироссийский', 'репутационный', 'мочь', 'сторона', 'проблема', 'последствие', 'запрет', 'рнкб', 'отношение', 'готовый', 'экономический', 'число', 'территория', 'перевод', 'партнёр', 'работа', 'сша', 'очередной', 'эффект', 'газпром', 'один', 'ситуация', 'сила', 'монополия', 'влияние', 'финансовый', 'крым', 'международный', 'который', 'технологический', 'штрафной', 'виток', 'куб', 'банка', 'нарушение', 'риска', 'ес', 'список', 'введение']\n"
     ]
    }
   ],
   "source": [
    "print(list(set(sanction)))"
   ]
  },
  {
   "cell_type": "markdown",
   "metadata": {},
   "source": [
    "**Я решил искать не только по прилагательным как изначально хотел , но и по существительным, так как мне было очевидно, что скорей всего в тексте будет что-то вроде** :**Санкции США или Нато** и мои догадки оправдались.\n",
    "\n",
    "**Из важных существительных мы можем выделить:**США,ЕС,список,Россия,банка,газпром.\n",
    "\n",
    "**Из прилагательных можно выделить:***Экономические , финаносвые, американские, международные , западные,штрафные,секторашльные***"
   ]
  },
  {
   "cell_type": "markdown",
   "metadata": {},
   "source": [
    "## Часть 2. Классификационная [3 балла]\n",
    "Вам предстоит решить следующую задачу: по текстам новостей за день определить, вырастет или понизится цена закрытия.\n",
    "Для этого:\n",
    "* бинаризуйте признак \"цена закрытия\":  новый признак ClosingPrice_bin равен 1, если по сравнению со вчера цена не упала, и 0 – в обратном случаея;\n",
    "* составьте бучающее и тестовое множество: данные до начала 2016 года используются для обучения, данные с 2016 года и позже – для тестирования.\n",
    "\n",
    "Таким образом, в каждлый момент времени мы знаем: \n",
    "* ClosingPrice_bin – бинарый целевой признак\n",
    "* слова из статей, опубликованных в этот день – объясняющие признаки\n",
    "\n",
    "В этой части задания вам нужно сделать baseline алгоритм и попытаться его улучшить в следующей части. \n",
    "\n",
    "Используйте любой известный вам алгоритм классификации текстов для того, Используйте $tf-idf$ преобразование, сингулярное разложение, нормировку признакого пространства и любые другие техники обработки данных, которые вы считаете нужным. Используйте accuracy и F-measure для оценки качества классификации. Покажите, как  $tf-idf$ преобразование или сингулярное разложение или любая другая использованная вами техника влияет на качество классификации.\n",
    "Если у выбранного вами алгоритма есть гиперпараметры (например, $\\alpha$ в преобразовании Лапласа для метода наивного Байеса), покажите, как изменение гиперпараметра влияет на качество классификации."
   ]
  },
  {
   "cell_type": "code",
   "execution_count": 169,
   "metadata": {
    "collapsed": true
   },
   "outputs": [],
   "source": [
    "import pandas as pd\n",
    "df = pd.read_csv('texts.csv')\n",
    "df['date'] = pd.to_datetime(df['date'])\n",
    "df = df.sort_values('date', ascending=False)\n",
    "\n",
    "pr_all = pd.read_csv('gazprom_prices.csv', sep=';')\n",
    "pr_all = pr_all.rename(index=str, columns={'Date':'date'})\n",
    "pr_all['date'] = pd.to_datetime(pr_all['date'])\n",
    "pr_all = pr_all.sort_values('date', ascending=False)\n",
    "\n",
    "result = pd.merge(pr_all, df, on='date')\n",
    "result.dropna(axis=0, how='any')\n",
    "result['ClosingPrice_bin'] = (result['Open'] <= result['ClosingPrice']).apply(int)\n",
    "\n",
    "df_full = result[['date', 'text', 'ClosingPrice_bin']]\n",
    "\n",
    "yearToSplitBy = pd.datetime(2016, 1, 1)\n",
    "train = df_full[df_full.date < yearToSplitBy]\n",
    "test = df_full[df_full.date >= yearToSplitBy]"
   ]
  },
  {
   "cell_type": "code",
   "execution_count": 170,
   "metadata": {
    "collapsed": true
   },
   "outputs": [],
   "source": [
    "from sklearn import feature_extraction\n",
    "from sklearn.ensemble import RandomForestClassifier\n",
    "import matplotlib.pyplot as plt\n",
    "%matplotlib inline\n",
    "\n",
    "X_train = train.text\n",
    "y_train = train.ClosingPrice_bin\n",
    "X_test = test.text\n",
    "y_test = test.ClosingPrice_bin\n",
    "##tf-idf\n",
    "vectorizer = feature_extraction.text.TfidfVectorizer(ngram_range=(1, 3))\n",
    "vectorizer.fit(df_full.text)\n",
    "X_train = vectorizer.transform(X_train).toarray()\n",
    "X_test = vectorizer.transform(X_test).toarray()\n",
    "##normalization\n",
    "X_train_norm = (X_train - X_train.mean()) / (X_train.max() - X_train.min())\n",
    "X_test_norm = (X_test - X_test.mean()) / (X_test.max() - X_test.min())"
   ]
  },
  {
   "cell_type": "code",
   "execution_count": 171,
   "metadata": {
    "collapsed": true,
    "scrolled": true
   },
   "outputs": [],
   "source": [
    "accuracy = []\n",
    "f_measure = []\n",
    "max_depths = [3, 5, 10, 15, 20]\n",
    "for max_depth in max_depths:\n",
    "    clf = RandomForestClassifier(n_estimators=100, max_depth=max_depth)\n",
    "    clf.fit(X_train_norm, y_train)\n",
    "    \n",
    "    pred = clf.predict(X_test_norm)\n",
    "    accuracy.append(accuracy_score(y_test, pred))\n",
    "    f_measure.append(f1_score(y_test, pred))"
   ]
  },
  {
   "cell_type": "markdown",
   "metadata": {},
   "source": [
    "На графиках видно, что при маленькой глубине получается не очень хорошо - алрогитм становится бессмысленным(малая f-score)  \n",
    "Баланс достигается про глубине в 15. Теперь попробуем поменять количество деревьев."
   ]
  },
  {
   "cell_type": "code",
   "execution_count": 172,
   "metadata": {},
   "outputs": [
    {
     "data": {
      "text/plain": [
       "Text(0.5,0,'max_depth')"
      ]
     },
     "execution_count": 172,
     "metadata": {},
     "output_type": "execute_result"
    },
    {
     "data": {
      "image/png": "[encoded data removed]",
      "text/plain": [
       "<matplotlib.figure.Figure at 0x1ae813bcc0>"
      ]
     },
     "metadata": {},
     "output_type": "display_data"
    }
   ],
   "source": [
    "plt.plot(max_depths, f_measure)\n",
    "plt.ylabel('f1 score')\n",
    "plt.xlabel('max_depth')"
   ]
  },
  {
   "cell_type": "code",
   "execution_count": 173,
   "metadata": {
    "scrolled": false
   },
   "outputs": [
    {
     "data": {
      "text/plain": [
       "Text(0.5,0,'max_depth')"
      ]
     },
     "execution_count": 173,
     "metadata": {},
     "output_type": "execute_result"
    },
    {
     "data": {
      "image/png": "[encoded data removed]",
      "text/plain": [
       "<matplotlib.figure.Figure at 0x1ae813ba20>"
      ]
     },
     "metadata": {},
     "output_type": "display_data"
    }
   ],
   "source": [
    "plt.plot(max_depths, accuracy)\n",
    "plt.ylabel('accuracy')\n",
    "plt.xlabel('max_depth')"
   ]
  },
  {
   "cell_type": "code",
   "execution_count": 174,
   "metadata": {
    "collapsed": true
   },
   "outputs": [],
   "source": [
    "accuracy = []\n",
    "f_measure = []\n",
    "n_estimators = [100, 200, 500, 1000, 1200]\n",
    "for n in n_estimators:\n",
    "    clf = RandomForestClassifier(n_estimators=n, max_depth=15)\n",
    "    clf.fit(X_train_norm, y_train)\n",
    "    \n",
    "    pred = clf.predict(X_test_norm)\n",
    "    accuracy.append(accuracy_score(y_test, pred))\n",
    "    f_measure.append(f1_score(y_test, pred))"
   ]
  },
  {
   "cell_type": "markdown",
   "metadata": {},
   "source": [
    "Тут картина совсем понятна, и f-measure и accuracy лучшие при 500 деревьях."
   ]
  },
  {
   "cell_type": "code",
   "execution_count": 175,
   "metadata": {
    "scrolled": true
   },
   "outputs": [
    {
     "data": {
      "text/plain": [
       "Text(0.5,0,'n_estimators')"
      ]
     },
     "execution_count": 175,
     "metadata": {},
     "output_type": "execute_result"
    },
    {
     "data": {
      "image/png": "[encoded data removed]",
      "text/plain": [
       "<matplotlib.figure.Figure at 0x1ada90c5f8>"
      ]
     },
     "metadata": {},
     "output_type": "display_data"
    }
   ],
   "source": [
    "plt.plot(n_estimators, f_measure)\n",
    "plt.ylabel('f1 score')\n",
    "plt.xlabel('n_estimators')"
   ]
  },
  {
   "cell_type": "code",
   "execution_count": 176,
   "metadata": {},
   "outputs": [
    {
     "data": {
      "text/plain": [
       "Text(0.5,0,'n_estimators')"
      ]
     },
     "execution_count": 176,
     "metadata": {},
     "output_type": "execute_result"
    },
    {
     "data": {
      "image/png": "[encoded data removed]",
      "text/plain": [
       "<matplotlib.figure.Figure at 0x1ad4ff6c88>"
      ]
     },
     "metadata": {},
     "output_type": "display_data"
    }
   ],
   "source": [
    "plt.plot(n_estimators, accuracy)\n",
    "plt.ylabel('f1 score')\n",
    "plt.xlabel('n_estimators')"
   ]
  },
  {
   "cell_type": "markdown",
   "metadata": {},
   "source": [
    "# Итог  \n",
    "Нормализовали данные, использовали tf-idf и получили следующие значение точности и f меры при количестве деревьев 500 и их глубине 15."
   ]
  },
  {
   "cell_type": "code",
   "execution_count": 177,
   "metadata": {},
   "outputs": [
    {
     "name": "stdout",
     "output_type": "stream",
     "text": [
      "Accuracy: 0.515503875969\n",
      "F1-score: 0.113475177305\n"
     ]
    }
   ],
   "source": [
    "print(\"Accuracy:\", accuracy[2])\n",
    "print(\"F1-score:\", f_measure[2])"
   ]
  },
  {
   "cell_type": "markdown",
   "metadata": {},
   "source": [
    "## Часть 3. Творческая [4 балла]\n",
    "Придумайте и попытайтесь сделать еще что-нибудь, чтобы улучшить качество классификации. \n",
    "Направления развития:\n",
    "* Морфологический признаки: \n",
    "    * использовать в качестве признаков только существительные или только именованные сущности;\n",
    "* Модели скрытых тем:\n",
    "    * использовать в качестве признаков скрытые темы;\n",
    "    * использовать в качестве признаков динамические скрытые темы \n",
    "    пример тут: (https://github.com/RaRe-Technologies/gensim/blob/develop/docs/notebooks/dtm_example.ipynb)\n",
    "* Синтаксические признаки:\n",
    "    * использовать SOV-тройки в качестве признаков\n",
    "    * кластеризовать SOV-тройки по усредненным эмбеддингам  (обученные word2vec модели можно скачать отсюда: (http://rusvectores.org/ru/models/ или https://github.com/facebookresearch/fastText/blob/master/pretrained-vectors.md) и использовать только центроиды кластеров в качестве признаков\n",
    "* что-нибудь еще     "
   ]
  },
  {
   "cell_type": "code",
   "execution_count": 178,
   "metadata": {
    "collapsed": true
   },
   "outputs": [],
   "source": [
    "import nltk\n",
    "import re\n",
    "from nltk.tokenize import word_tokenize\n",
    "import pymorphy2\n",
    "morph = pymorphy2.MorphAnalyzer()\n",
    "from nltk.corpus import stopwords\n",
    "\n",
    "text = df_full['text']\n",
    "text_1 = []\n",
    "prog = re.compile('[А-Яа-я\\-]+')\n",
    "delete = re.compile(u'\\W+?')\n",
    "for i in range(len(text)):\n",
    "    l1 = prog.findall(text[i].lower())\n",
    "    tex = re.sub('\\W+?',\" \",str(l1))\n",
    "    text_1.append(str(tex))"
   ]
  },
  {
   "cell_type": "code",
   "execution_count": 179,
   "metadata": {
    "collapsed": true
   },
   "outputs": [],
   "source": [
    "token_morp_text = []\n",
    "for i in text_1:\n",
    "    token = nltk.word_tokenize(i)\n",
    "    token_morp_text.append([morph.parse(j)[0].normal_form for j in token if j not in  stopwords.words('russian')])"
   ]
  },
  {
   "cell_type": "code",
   "execution_count": 180,
   "metadata": {
    "collapsed": true
   },
   "outputs": [],
   "source": [
    "word_noun= []\n",
    "for part in token_morp_text:\n",
    "    bubble = []\n",
    "    for word in part:\n",
    "        word = morph.parse(word)[0]\n",
    "        if (word.tag.POS) == 'NOUN':\n",
    "            bubble.append(word[0])\n",
    "    word_noun.append(bubble)"
   ]
  },
  {
   "cell_type": "code",
   "execution_count": 181,
   "metadata": {
    "collapsed": true
   },
   "outputs": [],
   "source": [
    "new_word_noun = []\n",
    "for j in range(len(word_noun)):\n",
    "    s = \"\"\n",
    "    for word in word_noun[j]:\n",
    "        s += word + \" \"\n",
    "    new_word_noun.append(s)"
   ]
  },
  {
   "cell_type": "code",
   "execution_count": 182,
   "metadata": {
    "collapsed": true
   },
   "outputs": [],
   "source": [
    "X = pd.Series(new_word_noun)\n",
    "y = df_full['ClosingPrice_bin']"
   ]
  },
  {
   "cell_type": "code",
   "execution_count": 183,
   "metadata": {
    "scrolled": true
   },
   "outputs": [
    {
     "data": {
      "text/plain": [
       "TfidfVectorizer(analyzer='word', binary=False, decode_error='strict',\n",
       "        dtype=<class 'numpy.int64'>, encoding='utf-8', input='content',\n",
       "        lowercase=True, max_df=1.0, max_features=None, min_df=1,\n",
       "        ngram_range=(1, 1), norm='l2', preprocessor=None, smooth_idf=True,\n",
       "        stop_words=None, strip_accents=None, sublinear_tf=False,\n",
       "        token_pattern='(?u)\\\\b\\\\w\\\\w+\\\\b', tokenizer=None, use_idf=True,\n",
       "        vocabulary=None)"
      ]
     },
     "execution_count": 183,
     "metadata": {},
     "output_type": "execute_result"
    }
   ],
   "source": [
    "vect = feature_extraction.text.TfidfVectorizer()\n",
    "vect.fit(new_word_noun)"
   ]
  },
  {
   "cell_type": "code",
   "execution_count": 184,
   "metadata": {
    "collapsed": true
   },
   "outputs": [],
   "source": [
    "X_tfidf = vect.transform(X)"
   ]
  },
  {
   "cell_type": "code",
   "execution_count": 185,
   "metadata": {
    "collapsed": true
   },
   "outputs": [],
   "source": [
    "from sklearn.model_selection import train_test_split\n",
    "\n",
    "X_train, X_test, y_train, y_test = train_test_split(X_tfidf.toarray(), y, test_size=0.3, random_state=42)"
   ]
  },
  {
   "cell_type": "markdown",
   "metadata": {},
   "source": [
    "F measure получилась больше, что, в общем-то, хорошо, но точность заметно уменьшилась. Учитывая размеры выборки, могло произойти вообще все что угодно."
   ]
  },
  {
   "cell_type": "code",
   "execution_count": 186,
   "metadata": {},
   "outputs": [
    {
     "name": "stdout",
     "output_type": "stream",
     "text": [
      "Accuracy: 0.465517241379\n",
      "F1 score: 0.176991150442\n"
     ]
    }
   ],
   "source": [
    "clf = RandomForestClassifier(n_estimators=500, max_depth=15)\n",
    "clf.fit(X_train, y_train)\n",
    "\n",
    "print(\"Accuracy:\", accuracy_score(y_test, clf.predict(X_test)))\n",
    "print(\"F1 score:\", f1_score(y_test, clf.predict(X_test)))"
   ]
  },
  {
   "cell_type": "markdown",
   "metadata": {},
   "source": [
    "## Сдача домашнего задания\n",
    "\n",
    "Дедлайн сдачи домашнего задания:  23:59 22.03.2018. Каждый день просрочки дедлайна штрафуется -1 баллом.\n",
    "\n",
    "Результаты домашнего задания должны быть оформлены в виде отчета в jupyter notebook.\n",
    "Нормальный отчёт должен включать в себя:\n",
    "* Краткую постановку задачи и формулировку задания\n",
    "* Описание минимума необходимой теории и/или описание используемых инструментов \n",
    "* Подробный пошаговый рассказ о проделанной работе\n",
    "* **Аккуратно** оформленные результаты\n",
    "* Подробные и внятные ответы на все заданные вопросы \n",
    "* Внятные выводы – не стоит относится к домашнему заданию как к последовательности сугубо технических шагов, а стоит относится скорее как к небольшому практическому исследованию, у которого есть своя цель и свое назначение.\n",
    "\n",
    "Задание выполняется в группе до трех человек. Не забудьте перечислить фамилии всех, кто работал над домашнем задании, в jupyter notebook.  \n",
    "\n",
    "В случае использования какого-либо строннего источника информации обязательно дайте на него ссылку (поскольку другие тоже могут на него наткнуться). Плагиат наказывается нулём баллов за задание и предвзятым отношением в будущем.\n",
    "\n",
    "\n",
    "При возникновении проблем с выполнением задания обращайтесь с вопросами к преподавателю по семинарским занятиям в вашей группе или у учебным ассистентам.\n",
    "\n",
    "Учебный ассистент по ДЗ 2: Таисия Глушкова (email: glushkovato@gmail.com, telegram: @glushkovato).\n",
    "\n",
    "\n",
    "Небрежное оформление отчета существенно отразится на итоговой оценке. Весь код из отчёта должен быть воспроизводимым, если для этого нужны какие-то дополнительные действия, установленные модули и т.п. — всё это должно быть прописано в отчете в явном виде.\n",
    "\n",
    "Сдача отчетов осуществляется через систему AnyTask.\n",
    "\n"
   ]
  }
 ],
 "metadata": {
  "kernelspec": {
   "display_name": "Python 3",
   "language": "python",
   "name": "python3"
  },
  "language_info": {
   "codemirror_mode": {
    "name": "ipython",
    "version": 3
   },
   "file_extension": ".py",
   "mimetype": "text/x-python",
   "name": "python",
   "nbconvert_exporter": "python",
   "pygments_lexer": "ipython3",
   "version": "3.6.3"
  }
 },
 "nbformat": 4,
 "nbformat_minor": 2
}
