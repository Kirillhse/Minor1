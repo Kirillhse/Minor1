{
 "cells": [
  {
   "cell_type": "markdown",
   "metadata": {},
   "source": [
    "## Рекомендательные системы: предсказание оценки"
   ]
  },
  {
   "cell_type": "markdown",
   "metadata": {},
   "source": [
    "Рассмотрим задачу предсказания оценки, которую пользователь поставит фильму. Особенность этой задачи в том, что объекты выборки описываются категориальными признаками, принимающими большое число значений (например: идентификатор пользователя, идентификатор фильма, тэги, киноперсоны).\n",
    "\n",
    "Данные: [MovieLens + IMDb/Rotten Tomatoes](http://files.grouplens.org/datasets/hetrec2011/hetrec2011-movielens-2k-v2.zip) ([описание](http://files.grouplens.org/datasets/hetrec2011/hetrec2011-movielens-readme.txt)). Набор содержит данные о предпочтениях пользователей сервиса рекомендации кинофильмов [MovieLens](http://www.movielens.org/). Пользовательские оценки для фильмов принимают значения в интервале от 0.5 до 5.0, они записаны в файле *user_ratedmovies.dat* (а также в *user_ratedmovies-timestamps.dat*,  где для каждой оценки записана дата и время в формате timestamp), остальные файлы содержат дополнительную информацию о фильмах, которую можно использовать как признаки. Заметьте: кроме оценок (и тегов), про пользователя ничего не известно.\n",
    "\n",
    "Задача: построить модель, предсказывающую оценку пользователя фильму, который он еще не смотрел.\n",
    "\n",
    "Метрика качества: будем считать, что пользователю сервиса доступен блок рекомендаций, который может содержать рекомендации не более чем 5 фильмов.\n",
    "Выберем некоторого пользователя $u$ и обозначим известные для него рейтинги за $R^u$. В качестве тестовых рейтингов $R^u_{test}$ для этого пользователя рассмотрим 5 рейтингов, поставленные последними по времени, в качестве валидационных $R^u_{val}$ — предпоследние 5 рейтингов. Остальные известные рейтинги этого пользователя будут составлять обучающую выборку $R^u_{train}$.\n",
    "Для подбора гиперпараметров в рамках данного задания будем использовать валидационную выборку, предварительно обучив модель на обучающей выборке, а для финальной оценки качества — тестовую выборку, предварительно обучив модель на обучающей и валидационной выборках."
   ]
  },
  {
   "cell_type": "markdown",
   "metadata": {},
   "source": [
    "**1. (1 балл)** Загрузите данные и сформируйте 3 разреженные матрицы пользователи—фильмы для обучающих, валидационных и тестовых рейтингов пользователей соответственно, где в каждой ячейке стоит рейтинг, если он известен, или ноль, если неизвестен."
   ]
  },
  {
   "cell_type": "code",
   "execution_count": 1,
   "metadata": {
    "collapsed": true
   },
   "outputs": [],
   "source": [
    "import numpy as np\n",
    "import pandas as pd\n",
    "from scipy import sparse\n",
    "from collections import Counter\n",
    "import matplotlib.pyplot as plt\n",
    "%matplotlib inline"
   ]
  },
  {
   "cell_type": "code",
   "execution_count": 136,
   "metadata": {
    "collapsed": true
   },
   "outputs": [],
   "source": [
    "#Для начала нам надо переиндексировать индексы пользователей и фильмов, иначе будет неудобно работать с csr матрицей.Создадим копию, чтобы на основе нее менять индексы в основной  \n",
    "user_rate = pd.read_csv('D://hw4//user_ratedmovies-timestamps.dat', sep='\\t')\n",
    "user_rate_copyed = user_rate.copy()"
   ]
  },
  {
   "cell_type": "code",
   "execution_count": 137,
   "metadata": {
    "collapsed": true
   },
   "outputs": [],
   "source": [
    "movie_un = {}\n",
    "user_un = {}\n",
    "count_movie = 0\n",
    "count_user = 0"
   ]
  },
  {
   "cell_type": "code",
   "execution_count": 140,
   "metadata": {
    "collapsed": true
   },
   "outputs": [],
   "source": [
    "#iterrows выдает нам значения и индексы по строкеы.\n",
    "#Пробегаем в цикле по всем айдишникам,и когда находим новый, то присваемваем ему значение +1 от предытущего(в данном случаем сдела индексацию от 0)\n",
    "for index, row in user_rate.iterrows():\n",
    "    movie_id= int(row[\"movieID\"])\n",
    "    user_id = int(row[\"userID\"])\n",
    "    if movie_id not in movie_un.keys():\n",
    "        movie_un[movie_id] = count_movie\n",
    "        count_movie += 1\n",
    "    if user_id not in user_un.keys():\n",
    "        user_un[user_id] = count_user\n",
    "\n",
    "        count_user += 1"
   ]
  },
  {
   "cell_type": "code",
   "execution_count": 141,
   "metadata": {
    "collapsed": true
   },
   "outputs": [],
   "source": [
    "#Заполняем датафрейм с новыми индексами\n",
    "for index, row in user_rate_copyed.iterrows():\n",
    "    user_id = int(row[\"userID\"])\n",
    "    movie_id = int(row[\"movieID\"])\n",
    "    \n",
    "    user_rate.set_value(index, \"userID\", user_un[user_id])\n",
    "    user_rate.set_value(index, \"movieID\", movie_un[movie_id])\n",
    "del user_rate_copyed"
   ]
  },
  {
   "cell_type": "code",
   "execution_count": 142,
   "metadata": {
    "collapsed": true
   },
   "outputs": [],
   "source": [
    "#Cортируем по user_id и#Cортируем по user_id и timestamp,получается так что сортировка по времени происходит по каждому юзеру\n",
    "user_rate = user_rate.sort_values(['userID', 'timestamp'])"
   ]
  },
  {
   "cell_type": "code",
   "execution_count": 144,
   "metadata": {},
   "outputs": [
    {
     "data": {
      "text/html": [
       "<div>\n",
       "<style>\n",
       "    .dataframe thead tr:only-child th {\n",
       "        text-align: right;\n",
       "    }\n",
       "\n",
       "    .dataframe thead th {\n",
       "        text-align: left;\n",
       "    }\n",
       "\n",
       "    .dataframe tbody tr th {\n",
       "        vertical-align: top;\n",
       "    }\n",
       "</style>\n",
       "<table border=\"1\" class=\"dataframe\">\n",
       "  <thead>\n",
       "    <tr style=\"text-align: right;\">\n",
       "      <th></th>\n",
       "      <th>userID</th>\n",
       "      <th>movieID</th>\n",
       "      <th>rating</th>\n",
       "      <th>timestamp</th>\n",
       "    </tr>\n",
       "  </thead>\n",
       "  <tbody>\n",
       "    <tr>\n",
       "      <th>25</th>\n",
       "      <td>0</td>\n",
       "      <td>25</td>\n",
       "      <td>2.0</td>\n",
       "      <td>1162160199000</td>\n",
       "    </tr>\n",
       "    <tr>\n",
       "      <th>9</th>\n",
       "      <td>0</td>\n",
       "      <td>9</td>\n",
       "      <td>2.0</td>\n",
       "      <td>1162160202000</td>\n",
       "    </tr>\n",
       "    <tr>\n",
       "      <th>3</th>\n",
       "      <td>0</td>\n",
       "      <td>3</td>\n",
       "      <td>2.0</td>\n",
       "      <td>1162160212000</td>\n",
       "    </tr>\n",
       "    <tr>\n",
       "      <th>19</th>\n",
       "      <td>0</td>\n",
       "      <td>19</td>\n",
       "      <td>2.5</td>\n",
       "      <td>1162160216000</td>\n",
       "    </tr>\n",
       "    <tr>\n",
       "      <th>8</th>\n",
       "      <td>0</td>\n",
       "      <td>8</td>\n",
       "      <td>3.5</td>\n",
       "      <td>1162160220000</td>\n",
       "    </tr>\n",
       "  </tbody>\n",
       "</table>\n",
       "</div>"
      ],
      "text/plain": [
       "    userID  movieID  rating      timestamp\n",
       "25       0       25     2.0  1162160199000\n",
       "9        0        9     2.0  1162160202000\n",
       "3        0        3     2.0  1162160212000\n",
       "19       0       19     2.5  1162160216000\n",
       "8        0        8     3.5  1162160220000"
      ]
     },
     "execution_count": 144,
     "metadata": {},
     "output_type": "execute_result"
    }
   ],
   "source": [
    "user_rate.head()"
   ]
  },
  {
   "cell_type": "code",
   "execution_count": 41,
   "metadata": {},
   "outputs": [
    {
     "name": "stdout",
     "output_type": "stream",
     "text": [
      "2113 10109\n"
     ]
    }
   ],
   "source": [
    "uniq_u = np.unique(user_rate['userID'])\n",
    "uniq_m = np.unique(user_rate['movieID'])\n",
    "print(len(uniq_u),len(uniq_m))"
   ]
  },
  {
   "cell_type": "code",
   "execution_count": 39,
   "metadata": {},
   "outputs": [
    {
     "data": {
      "text/html": [
       "<div>\n",
       "<style>\n",
       "    .dataframe thead tr:only-child th {\n",
       "        text-align: right;\n",
       "    }\n",
       "\n",
       "    .dataframe thead th {\n",
       "        text-align: left;\n",
       "    }\n",
       "\n",
       "    .dataframe tbody tr th {\n",
       "        vertical-align: top;\n",
       "    }\n",
       "</style>\n",
       "<table border=\"1\" class=\"dataframe\">\n",
       "  <thead>\n",
       "    <tr style=\"text-align: right;\">\n",
       "      <th></th>\n",
       "      <th>userID</th>\n",
       "      <th>movieID</th>\n",
       "      <th>rating</th>\n",
       "      <th>timestamp</th>\n",
       "    </tr>\n",
       "  </thead>\n",
       "  <tbody>\n",
       "    <tr>\n",
       "      <th>50</th>\n",
       "      <td>0</td>\n",
       "      <td>50</td>\n",
       "      <td>5.0</td>\n",
       "      <td>1162160691000</td>\n",
       "    </tr>\n",
       "    <tr>\n",
       "      <th>51</th>\n",
       "      <td>0</td>\n",
       "      <td>51</td>\n",
       "      <td>3.5</td>\n",
       "      <td>1162160928000</td>\n",
       "    </tr>\n",
       "    <tr>\n",
       "      <th>52</th>\n",
       "      <td>0</td>\n",
       "      <td>52</td>\n",
       "      <td>3.5</td>\n",
       "      <td>1162160924000</td>\n",
       "    </tr>\n",
       "    <tr>\n",
       "      <th>53</th>\n",
       "      <td>0</td>\n",
       "      <td>53</td>\n",
       "      <td>3.5</td>\n",
       "      <td>1162160758000</td>\n",
       "    </tr>\n",
       "    <tr>\n",
       "      <th>54</th>\n",
       "      <td>0</td>\n",
       "      <td>54</td>\n",
       "      <td>4.5</td>\n",
       "      <td>1162160986000</td>\n",
       "    </tr>\n",
       "  </tbody>\n",
       "</table>\n",
       "</div>"
      ],
      "text/plain": [
       "    userID  movieID  rating      timestamp\n",
       "50       0       50     5.0  1162160691000\n",
       "51       0       51     3.5  1162160928000\n",
       "52       0       52     3.5  1162160924000\n",
       "53       0       53     3.5  1162160758000\n",
       "54       0       54     4.5  1162160986000"
      ]
     },
     "execution_count": 39,
     "metadata": {},
     "output_type": "execute_result"
    }
   ],
   "source": [
    "user_rate[user_rate['userID'] == 0][-5:]"
   ]
  },
  {
   "cell_type": "code",
   "execution_count": 145,
   "metadata": {
    "collapsed": true
   },
   "outputs": [],
   "source": [
    "#Cоздаем три датасета для тестовой , обучуающей и валидационой выборки , чтобы в дальнейшем перевести их в матрицы.\n",
    "k = 5\n",
    "x_test = pd.DataFrame(columns=['userID','movieID', 'rating', 'timestamp'])\n",
    "x_valid = pd.DataFrame(columns=['userID','movieID', 'rating', 'timestamp'])\n",
    "x_train = pd.DataFrame(columns=['userID','movieID', 'rating', 'timestamp'])\n",
    "for user in uniq_u:\n",
    "    row = user_rate[user_rate['userID'] == user]\n",
    "    x_test = x_test.append(row[-k:])\n",
    "    x_valid = x_valid.append(row[-2*k:-k])\n",
    "    x_train = x_train.append(row[:-2*k])"
   ]
  },
  {
   "cell_type": "code",
   "execution_count": 48,
   "metadata": {},
   "outputs": [
    {
     "data": {
      "text/plain": [
       "(10565, 4)"
      ]
     },
     "execution_count": 48,
     "metadata": {},
     "output_type": "execute_result"
    }
   ],
   "source": [
    "x_test.shape"
   ]
  },
  {
   "cell_type": "code",
   "execution_count": 53,
   "metadata": {
    "collapsed": true
   },
   "outputs": [],
   "source": [
    "#Cоздаем три искомы разряженный матрицы.\n",
    "from scipy.sparse import csr_matrix\n",
    "test_matrix = csr_matrix((x_test['rating'], (x_test['userID'], x_test['movieID'])), shape=(len(uniq_u), len(uniq_m))).toarray()\n",
    "train_matrix = csr_matrix((x_train['rating'], (x_train['userID'], x_train['movieID'])), shape=(len(uniq_u), len(uniq_m))).toarray()\n",
    "valid_matrix = csr_matrix((x_valid['rating'], (x_valid['userID'], x_valid['movieID'])), shape=(len(uniq_u), len(uniq_m))).toarray()"
   ]
  },
  {
   "cell_type": "code",
   "execution_count": 54,
   "metadata": {},
   "outputs": [
    {
     "name": "stdout",
     "output_type": "stream",
     "text": [
      "(2113, 10109)\n",
      "(2113, 10109)\n",
      "(2113, 10109)\n"
     ]
    }
   ],
   "source": [
    "print(test_matrix.shape)\n",
    "print(train_matrix.shape)\n",
    "print(valid_matrix.shape)"
   ]
  },
  {
   "cell_type": "markdown",
   "metadata": {},
   "source": [
    "Качество рекомендаций: будем использовать метрики RMSE@k и nDCG@k для $k=5$, описанные ниже.\n",
    "\n",
    "#### RMSE@k\n",
    "\n",
    "Поскольку нас интересуют лишь фильмы, попавшие в блок рекомендаций, качество работы модели можно оценивать при помощи RMSE на $k$ фильмах с наибольшим предсказанным рейтингом, где $k$ — размер блока рекомендаций. Отсортируем предсказанные моделью рейтинги $\\hat{r}_{ui}$ в порядке убывания и обозначим $i$-ый элемент в полученной последовательности за $\\hat{r}_{u(i)},$ а соответствующее этому фильму истинное значение рейтинга — за $r_{u(i)}$. Тогда RMSE@k:\n",
    "\n",
    "$$ \\text{RMSE@k}(u) = \\sqrt{ \\frac{1}{k} \\sum_{i=1}^k (r_{u(i)} - \\hat{r}_{u(i)})^2 },$$\n",
    "$$ \\text{RMSE@k} = \\frac{1}{|U|} \\sum_{u \\in U} \\text{RMSE@k}(u),$$\n",
    "где $U$ — множество пользователей. При вычислении данной метрики все неизвестные оценки будем полагать равными 0.\n",
    "\n",
    "#### nDCG@k\n",
    "\n",
    "Также можно использовать метрику качества ранжирования. Для этого для каждого пользователя $u$ предскажем оценку для всех фильмов из $R^u_{test}$ и отсортируем эти фильмы по убыванию предсказанного рейтинга. Ожидается, что хороший алгоритм должен выдать релевантные фильмы вверху списка. Отсортируем предсказанные моделью рейтинги $\\hat{r}_{ui}$ в порядке убывания и обозначим $i$-ый элемент в полученной последовательности за $\\hat{r}_{u(i)},$ а соответствующее этому фильму истинное значение рейтинга — за $r_{u(i)}.$\n",
    "\n",
    "Тогда nDCG@k :\n",
    "\n",
    "$$\\text{DCG@k}(u) = \\sum_{i=1}^k g(r_{u(i)}) d(i),$$\n",
    "$$\\text{nDCG@k}(u) = \\frac{\\text{DCG@k}(u)}{\\max \\text{DCG@k}(u)},$$\n",
    "$$\\text{nDCG@k} = \\frac{1}{|U|} \\sum_{u \\in U} \\text{nDCG@k}(u),$$\n",
    "где $g(r)$ — функция полезности фильма, а  $d(i)$ — штраф за позицию.\n",
    "\n",
    "Положим $g(r) = 2^r-1, \\, d(i) = \\frac{1}{\\log_2 (i+1)}.$ При вычислении данной метрики все неизвестные оценки будем полагать равными 0."
   ]
  },
  {
   "cell_type": "markdown",
   "metadata": {},
   "source": [
    "**2. (2 балла)** Реализуйте функции rmse_score и ndcg_score, вычисляющие значения описанных выше метрик. Каждая из функций в качестве параметров должна принимать:\n",
    " * y_true — матрицу тестовых рейтингов (сформированную аналогично матрице тестовых рейтингов из предыдущего пункта; функция должна корректно работать и для разреженных, и для плотных матриц);\n",
    " * y_predicted — матрицу предсказаний модели в аналогичном формате (функция должна корректно работать и для разреженных, и для плотных матриц);\n",
    " * k — параметр $k$ в определениях метрик."
   ]
  },
  {
   "cell_type": "code",
   "execution_count": 69,
   "metadata": {},
   "outputs": [
    {
     "data": {
      "text/plain": [
       "10109"
      ]
     },
     "execution_count": 69,
     "metadata": {},
     "output_type": "execute_result"
    }
   ],
   "source": [
    "len(test_matrix[1])"
   ]
  },
  {
   "cell_type": "code",
   "execution_count": 107,
   "metadata": {
    "collapsed": true
   },
   "outputs": [],
   "source": [
    "def rmse_score(y_true, y_predicted, k=5):\n",
    "    \n",
    "    \n",
    "    if type(y_true) == sparse.csr.csr_matrix:\n",
    "        y_true = y_true.toarray()\n",
    "    else:\n",
    "        y_true = y_true\n",
    "    if type(y_predicted) == sparse.csr.csr_matrix:\n",
    "        y_predicted = y_predicted.toarray()\n",
    "    else:\n",
    "        y_predicted = y_predicted\n",
    "        \n",
    "    user_num = y_predicted.shape[0]\n",
    "    rmse_ku= int(0)\n",
    "    rmse_k = int(0)\n",
    "    #Здесь мы в цикле пробегаемся по всем юзерам\n",
    "    for user in range(user_num):\n",
    "        #функция аргсор возвращает позиции для отстортированного массива, но не соритрует его.\n",
    "        movie_id = y_predicted[user].argsort()[-k:]\n",
    "        true_k = []\n",
    "        pred_k = []\n",
    "        #Зная id всех топ_к фильмов , добавляем их в список и высчитываем rmse\n",
    "        for mov in movie_id:\n",
    "            true_k.append(y_true[user][mov])\n",
    "            pred_k.append(y_predicted[user][mov])\n",
    "        for  i in range(len(pred_k)):\n",
    "            dif  = (pred_k[i] - true_k[i]) ** 2\n",
    "            rmse_ku += dif\n",
    "        rmse_ku = np.sqrt(rmse_ku/k)\n",
    "        rmse_k += rmse_ku\n",
    "    rmse_k = rmse_k/user_num\n",
    "\n",
    "    return rmse_k\n",
    "\n",
    "def ndcg_score(y_true, y_predicted, k=5):\n",
    "    \n",
    "    if type(y_true) == sparse.csr.csr_matrix:\n",
    "        y_true = y_true.toarray()\n",
    "    else:\n",
    "        y_true = y_true\n",
    "    if type(y_predicted) == sparse.csr.csr_matrix:\n",
    "        y_predicted = y_predicted.toarray()\n",
    "    else:\n",
    "        y_predicted = y_predicted\n",
    "    \n",
    "    user_num = y_predicted.shape[0]\n",
    "    dcg = int(0)\n",
    "    dcg_ku = []\n",
    "    ndcg_ku = []\n",
    "    for user in range(user_num):\n",
    "        movie_id = y_predicted[user].argsort()[-k:]\n",
    "        true_k_dcg = []\n",
    "        pred_k_dcg= []\n",
    "        for mov in movie_id:\n",
    "            true_k_dcg.append(y_true[user][mov])\n",
    "            pred_k_dcg.append(y_predicted[user][mov])\n",
    "        for i in range(len(true_k_dcg)):\n",
    "            dcg +=  (2 ** (true_k_dcg[i]) - 1)/(np.log2(i+1) + 1)\n",
    "        dcg_ku.append(dcg)\n",
    "    max_dcg = max(dcg_ku)\n",
    "    for j in dcg_ku:\n",
    "        ndcg_ku.append(j/max_dcg)\n",
    "    ndcg_ku = sum(ndcg_ku)/user_num\n",
    "    \n",
    "    return ndcg_ku"
   ]
  },
  {
   "cell_type": "markdown",
   "metadata": {},
   "source": [
    "**3. (1 балл)** Постройте рекомендации на основе **most popular** метода, при котором предсказанный рейтинг для некоторого фильма $i$ одинаков для всех пользователей и совпадает со средним значением рейтинга по всем пользователям, оценившим этот фильм, и вычислите значения метрик RMSE@5 и nDCG@5 для тестовой матрицы из п. 1."
   ]
  },
  {
   "cell_type": "code",
   "execution_count": 112,
   "metadata": {},
   "outputs": [
    {
     "data": {
      "text/plain": [
       "array([ 0.,  0.,  0., ...,  0.,  0.,  0.])"
      ]
     },
     "execution_count": 112,
     "metadata": {},
     "output_type": "execute_result"
    }
   ],
   "source": [
    "test_matrix[:,1]"
   ]
  },
  {
   "cell_type": "code",
   "execution_count": 115,
   "metadata": {
    "collapsed": true
   },
   "outputs": [],
   "source": [
    "#Здесь мы пробегаемся по всем фильмам и находим пользователей, у которых рейтинг для этого фильма нулевой и заменяем его на среднее значение рейтинга для этого фильма срзди всех пользователей \n",
    "most_pop = np.zeros((test_matrix.shape[0], test_matrix.shape[1]))\n",
    "movie_num = test_matrix.shape[1]\n",
    "mean_raiting = {}\n",
    "#создаем словарь с средними значениями для конкретного фильма\n",
    "for i in range(movie_num):\n",
    "    count = 0\n",
    "    for j in train_matrix[:, i]:\n",
    "        if j != 0:\n",
    "            count += 1\n",
    "            mean_raiting[i] = mean_raiting.get(i, 0) + j\n",
    "    if count != 0:\n",
    "        mean_raiting[i] = mean_raiting[i]/count\n",
    "#заполняе матрицу most_pop\n",
    "for mov_id, raiting in mean_raitig.items():\n",
    "    for userID in range(most_pop.shape[0]):\n",
    "        most_pop[userID][movieID] = rating"
   ]
  },
  {
   "cell_type": "code",
   "execution_count": 116,
   "metadata": {},
   "outputs": [
    {
     "data": {
      "text/plain": [
       "0.20604601842496878"
      ]
     },
     "execution_count": 116,
     "metadata": {},
     "output_type": "execute_result"
    }
   ],
   "source": [
    "rmse_score(test_matrix, most_pop, k=5)"
   ]
  },
  {
   "cell_type": "code",
   "execution_count": 117,
   "metadata": {},
   "outputs": [
    {
     "data": {
      "text/plain": [
       "0.51497507436002299"
      ]
     },
     "execution_count": 117,
     "metadata": {},
     "output_type": "execute_result"
    }
   ],
   "source": [
    "ndcg_score(test_matrix, most_pop, k= 5)"
   ]
  },
  {
   "cell_type": "markdown",
   "metadata": {},
   "source": [
    "**4. (1 балл)** Реализуйте построение рекомендаций путём разложения матрицы рейтингов с помощью [разреженного SVD](http://scikit-learn.org/stable/modules/generated/sklearn.decomposition.TruncatedSVD.html) (в предположении, что неизвестные рейтинги заменяются на нули) и последующего её восстановления и постройте график зависимости метрик RMSE@5 и nDCG@5 от значения ранга разложения на валидационной выборке (рассмотрите как минимум 10 различных значений ранга разложения)"
   ]
  },
  {
   "cell_type": "code",
   "execution_count": 69,
   "metadata": {
    "collapsed": true
   },
   "outputs": [],
   "source": [
    "from sklearn.decomposition import TruncatedSVD"
   ]
  },
  {
   "cell_type": "code",
   "execution_count": 121,
   "metadata": {},
   "outputs": [
    {
     "name": "stdout",
     "output_type": "stream",
     "text": [
      "rank 10\n",
      "rmse 3.62577274487\n",
      "ndcg 0.450013390606\n",
      "rank 20\n",
      "rmse 3.92084493911\n",
      "ndcg 0.513804446291\n",
      "rank 30\n",
      "rmse 4.07327738904\n",
      "ndcg 0.491774231485\n",
      "rank 40\n",
      "rmse 4.20367216903\n",
      "ndcg 0.50673596079\n",
      "rank 50\n",
      "rmse 4.28864080697\n",
      "ndcg 0.563812757514\n",
      "rank 60\n",
      "rmse 4.35233944871\n",
      "ndcg 0.472142616894\n",
      "rank 70\n",
      "rmse 4.4105493893\n",
      "ndcg 0.439489561837\n",
      "rank 80\n",
      "rmse 4.46864110404\n",
      "ndcg 0.493457882247\n",
      "rank 90\n",
      "rmse 4.50650318589\n",
      "ndcg 0.48332188326\n",
      "rank 100\n",
      "rmse 4.54376883316\n",
      "ndcg 0.481723024618\n"
     ]
    }
   ],
   "source": [
    "#Признаюсь, я ненмного туповат и в данном и следующим задании я опирался на знания из статьи https://cambridgespark.com/content/tutorials/implementing-your-own-recommender-systems-in-Python/index.html\n",
    "import scipy.sparse as sp\n",
    "from scipy.sparse.linalg import svds\n",
    "\n",
    "\n",
    "rmse_vals = []\n",
    "ndcge_vals = []\n",
    "\n",
    "for r in np.arange(10, 110, 10):\n",
    "    print('rank', r)\n",
    "    u, s, vt = svds(train_matrix, k = r)\n",
    "    s_diag_matrix=np.diag(s)\n",
    "    pred = np.dot(np.dot(u, s_diag_matrix), vt)\n",
    "    cur_rmse = rmse_score(valid_matrix, pred)\n",
    "    cur_ndcg = ndcg_score(valid_matrix, pred)\n",
    "    rmse_vals.append(cur_rmse)\n",
    "    ndcge_vals.append(cur_ndcg)\n",
    "    print('rmse', cur_rmse)\n",
    "    print('ndcg', cur_ndcg)"
   ]
  },
  {
   "cell_type": "code",
   "execution_count": 122,
   "metadata": {},
   "outputs": [
    {
     "data": {
      "text/plain": [
       "Text(0.5,0,'rank')"
      ]
     },
     "execution_count": 122,
     "metadata": {},
     "output_type": "execute_result"
    },
    {
     "data": {
      "image/png": "[encoded data removed]",
      "text/plain": [
       "<matplotlib.figure.Figure at 0x27e9e209710>"
      ]
     },
     "metadata": {},
     "output_type": "display_data"
    }
   ],
   "source": [
    "fig, (ax1, ax2) = plt.subplots(1, 2, figsize=(12, 4))\n",
    "args = np.arange(10, 110, 10)\n",
    "\n",
    "fig.suptitle('SVD', fontweight='bold')\n",
    "ax1.plot(args, rmse_vals)\n",
    "ax2.plot(args, ndcge_vals)\n",
    "ax1.set_title('RMSE')\n",
    "ax2.set_title('nDCG')\n",
    "ax1.set_xlabel('rank')\n",
    "ax2.set_xlabel('rank')"
   ]
  },
  {
   "cell_type": "markdown",
   "metadata": {
    "collapsed": true
   },
   "source": [
    "**5. (3 балла)** Постройте рекомендации на основе user-based коллаборативной фильтрации. \n",
    "Предсказание модели $\\hat{r}_{ui}$ вычисляйте по следующей формуле:\n",
    "$$\\hat{r}_{ui} = \\bar{r}_{u} + \\frac{\\sum_{v \\in U(u)} w_{uv} (r_{vi} - \\bar{r}_v)}{\\sum_{v \\in U(u)} w_{uv}},$$\n",
    "где $\\bar{r}_u$ — средний ретинг пользователя $u$, $w_{uv}$ — мера сходства пользователей $u$ и $v$, $U(u) = \\{ v \\in U \\, | \\, w_{uv} > \\alpha\\}$ — коллаборация пользователя $u$. \n",
    "\n",
    "Значение параметра $\\alpha$ возьмите равным 0.9.\n",
    "\n",
    "Вычислите значения метрик RMSE@5 и nDCG@5 на тестовой выборке."
   ]
  },
  {
   "cell_type": "code",
   "execution_count": 124,
   "metadata": {
    "collapsed": true
   },
   "outputs": [],
   "source": [
    "from sklearn.metrics.pairwise import pairwise_distances\n",
    "user_similarity = pairwise_distances(train_matrix, metric='cosine')\n",
    "\n",
    "def predict(ratings, similarity):\n",
    "    mean_user_rating = ratings.mean(axis=1)\n",
    "    ratings_diff = (ratings - mean_user_rating[:, np.newaxis])\n",
    "    pred = mean_user_rating[:, np.newaxis] + similarity.dot(ratings_diff) / np.array([np.abs(similarity).sum(axis=1)]).T\n",
    "    return pred\n",
    "\n",
    "user_prediction = predict(test_matrix, user_similarity)\n"
   ]
  },
  {
   "cell_type": "code",
   "execution_count": 128,
   "metadata": {},
   "outputs": [
    {
     "data": {
      "text/plain": [
       "3.7508386499043369"
      ]
     },
     "execution_count": 128,
     "metadata": {},
     "output_type": "execute_result"
    }
   ],
   "source": [
    "rmse_score(user_prediction,test_matrix)"
   ]
  },
  {
   "cell_type": "code",
   "execution_count": 129,
   "metadata": {},
   "outputs": [
    {
     "data": {
      "text/plain": [
       "0.50150102704684529"
      ]
     },
     "execution_count": 129,
     "metadata": {},
     "output_type": "execute_result"
    }
   ],
   "source": [
    "ndcg_score(user_prediction,test_matrix)"
   ]
  },
  {
   "cell_type": "markdown",
   "metadata": {
    "collapsed": true
   },
   "source": [
    "**6. (1 балл)** Какой метод оказался лучше по каким метрикам? Почему?"
   ]
  },
  {
   "cell_type": "markdown",
   "metadata": {
    "collapsed": true
   },
   "source": [
    "Лучший результат получился у метода most_pop, но с аномально малым результатом и сам метод делает довольно грубую оценку, так что будем сравнивать User-Based Collaborative Filtering и SVD.\n",
    "\n",
    "Метод SVD показал ухудшение с ростом к показания rmse ухудшались, а dcg как возрастали , так и убывали, это может объяснено делелнием на логарифм.\n",
    "В данном методе может возникнуть проблема того, что есть не единственный способ разложения матрицы. \n",
    "\n",
    "\n",
    "Метод user_based показал результат чуть хуже , чем SVD  при малых значения rank.\n",
    "Данный метод работает довольно хорошо, но имеет несколько недостатков. При появления новых или нестандартных пользователей им будет нечего рекомендовать, так же встает вопрос , что если данный фильм никто не посмотрел, то он тоже не будет рекомендован.\n"
   ]
  },
  {
   "cell_type": "markdown",
   "metadata": {},
   "source": [
    "**7. (1 балл)** Приведите достоинства и недостатки используемых метрик. Какие еще метрики можно было бы использовать для решения задачи? Приведите примеры других постановок задачи, как в этом случае можно было бы оценить качество?"
   ]
  },
  {
   "cell_type": "markdown",
   "metadata": {
    "collapsed": true
   },
   "source": [
    "RMSE.\n",
    "\n",
    "\n",
    "Оценки как показатель довольно субъективный критерий ведь у каждого свое представления о хорошем кино и тут нет единого стандарта, поэтому возникает довольно большой разброс.\n",
    "И получается так, что пользователи имеющие большой разброс оценок, будут иметь бОльший вес.\n",
    "\n",
    "\n",
    "DCG\n",
    "\n",
    "Данный метод дает лучшие результаты и явлеется более релевантным для рекомендательных систем.\n",
    "Данный метод довольно  зависит как от порядка, так и от релевантности фильма.Не сильно зависит от небольших значений ранга k, но довольно сильно зависит от релевантности фильма.\n",
    "\n",
    "Precision и Recall метод.\n",
    "\n",
    "Нет данных про рекомендованные объекты, которые пользователь не оценивал.\n",
    "Оптимизировать эти метрики напрямую почти невозможно.\n",
    "\n",
    "На самом деле задач из класса рекомендательных систем довольно большое количество, таргетная реклама, запросы пользователей, подбор товаров в интеренет магазинах, подборка музыки,видео(youtube) и тд.\n",
    "\n",
    "\n",
    "Ну и в основном есть три основных подхода к решению данного класса задач.\n",
    "\n",
    "Collaborative Filtering(Основывается на взаимодействии пользователь - объект,по сути заполнения матрицы пользователь - объект на основании)(user-based, item-based)\n",
    "\n",
    "Content Based system (Основывается на характеристических признаков объектов)\n",
    "\n",
    "Knowledge based system(экспертное мнение о рекомендациях)"
   ]
  }
 ],
 "metadata": {
  "kernelspec": {
   "display_name": "Python 3",
   "language": "python",
   "name": "python3"
  },
  "language_info": {
   "codemirror_mode": {
    "name": "ipython",
    "version": 3
   },
   "file_extension": ".py",
   "mimetype": "text/x-python",
   "name": "python",
   "nbconvert_exporter": "python",
   "pygments_lexer": "ipython3",
   "version": "3.6.3"
  }
 },
 "nbformat": 4,
 "nbformat_minor": 1
}
